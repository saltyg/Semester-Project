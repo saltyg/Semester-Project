{
 "cells": [
  {
   "cell_type": "markdown",
   "metadata": {},
   "source": [
    "# Query 6\n",
    "0. Exact result\n",
    "1. Stratified sampling\n",
    "2. Weighted KDE\n",
    "3. Curse of Dimensionality"
   ]
  },
  {
   "cell_type": "code",
   "execution_count": null,
   "metadata": {},
   "outputs": [],
   "source": [
    "select\n",
    "\tsum(l_extendedprice * l_discount) as revenue\n",
    "from\n",
    "\tlineitem\n",
    "where\n",
    "\tl_shipdate >= date ':1'\n",
    "\tand l_shipdate < date ':1' + interval '1' year\n",
    "\tand l_discount between :2 - 0.01 and :2 + 0.01\n",
    "\tand l_quantity < :3;"
   ]
  },
  {
   "cell_type": "code",
   "execution_count": 1,
   "metadata": {},
   "outputs": [],
   "source": [
    "import numpy as np\n",
    "import pandas as pd\n",
    "import matplotlib\n",
    "import matplotlib.pyplot as plt\n",
    "from distutils.version import LooseVersion\n",
    "\n",
    "from collections import Counter\n",
    "\n",
    "import scipy\n",
    "from scipy.stats import gaussian_kde\n",
    "from scipy import integrate\n",
    "\n",
    "import timeit\n",
    "import pickle\n",
    "from datetime import date, timedelta\n",
    "import sys\n",
    "import scipy.stats as st\n",
    "from random import random"
   ]
  },
  {
   "cell_type": "code",
   "execution_count": 2,
   "metadata": {},
   "outputs": [],
   "source": [
    "import pyspark\n",
    "import pyspark.sql\n",
    "from pyspark.sql import *\n",
    "import pyspark.sql.functions as f\n",
    "from pyspark.sql.functions import col\n",
    "\n",
    "from pyspark import broadcast\n",
    "# To avoid OverflowError: cannot serialize a string larger than 4GiB\n",
    "def broadcast_dump(self, value, f):\n",
    "    pickle.dump(value, f, 4)  # was 2, 4 is first protocol supporting >4GB\n",
    "    f.close()\n",
    "    return f.name\n",
    "broadcast.Broadcast.dump = broadcast_dump\n",
    "\n",
    "conf = pyspark.SparkConf().setMaster(\"local[16]\").setAll([\n",
    "                                   ('spark.executor.memory', '4g'),  # find\n",
    "                                   ('spark.driver.memory','10g'), # your\n",
    "                                   ('spark.driver.maxResultSize', '4G') # setup\n",
    "                                  ])\n",
    "# create the session\n",
    "spark = SparkSession.builder.config(conf=conf).getOrCreate()\n",
    "\n",
    "# create the context\n",
    "sc = spark.sparkContext\n",
    "\n",
    "# FIX for Spark 2.x\n",
    "locale = sc._jvm.java.util.Locale\n",
    "locale.setDefault(locale.forLanguageTag(\"en-US\"))"
   ]
  },
  {
   "cell_type": "code",
   "execution_count": 3,
   "metadata": {},
   "outputs": [
    {
     "data": {
      "text/html": [
       "<style>.container { width:90% !important; }</style>"
      ],
      "text/plain": [
       "<IPython.core.display.HTML object>"
      ]
     },
     "metadata": {},
     "output_type": "display_data"
    }
   ],
   "source": [
    "from IPython.core.display import display, HTML\n",
    "display(HTML(\"<style>.container { width:90% !important; }</style>\"))"
   ]
  },
  {
   "cell_type": "code",
   "execution_count": 4,
   "metadata": {},
   "outputs": [],
   "source": [
    "import stratified_sampling"
   ]
  },
  {
   "cell_type": "code",
   "execution_count": 6,
   "metadata": {},
   "outputs": [],
   "source": [
    "lineitem = spark.read.parquet(\"/Users/futongliu/Downloads/SemesterProject/tpch_parquet_sf1/lineitem.parquet\").limit(50000)"
   ]
  },
  {
   "cell_type": "markdown",
   "metadata": {},
   "source": [
    "### Helper Functions"
   ]
  },
  {
   "cell_type": "code",
   "execution_count": 7,
   "metadata": {},
   "outputs": [],
   "source": [
    "def calculate_error(Q1_approx, Q1_exact):\n",
    "    df_2 = Q1_approx.toPandas().astype(float)\n",
    "    df_1 = Q1_exact.toPandas().astype(float)\n",
    "    return abs(df_2 - df_1) * 100 / df_1\n",
    "\n",
    "def calculate_size_of(obj):\n",
    "    p = pickle.dumps(obj)\n",
    "    size = sys.getsizeof(p)\n",
    "    print('The size of the object in MB: ', size / 2 ** 20)\n",
    "    return size"
   ]
  },
  {
   "cell_type": "code",
   "execution_count": 8,
   "metadata": {},
   "outputs": [],
   "source": [
    "CONSTRUCTION_TIME = [0] * 2\n",
    "EXECUTION_TIME = [0] * 2\n",
    "SPACE = [0] * 2\n",
    "ERROR = [0] * 2"
   ]
  },
  {
   "cell_type": "code",
   "execution_count": 9,
   "metadata": {},
   "outputs": [],
   "source": [
    "DATE = date(1996, 2, 1)\n",
    "DISCOUNT = 0.1\n",
    "QUANTITY = 50\n",
    "QCS = ['l_shipdate', 'l_discount', 'l_quantity']"
   ]
  },
  {
   "cell_type": "markdown",
   "metadata": {},
   "source": [
    "# 0. Exact Result"
   ]
  },
  {
   "cell_type": "code",
   "execution_count": 10,
   "metadata": {},
   "outputs": [
    {
     "name": "stdout",
     "output_type": "stream",
     "text": [
      "+------------+\n",
      "|     revenue|\n",
      "+------------+\n",
      "|2398177.6890|\n",
      "+------------+\n",
      "\n"
     ]
    }
   ],
   "source": [
    "def compute_exact_result(df, the_date, the_disc, the_quantity):\n",
    "    return df.where( (the_date <= f.col(\"l_shipdate\")) & (f.col(\"l_shipdate\") < the_date + timedelta(days = 365)))\\\n",
    "            .where( (the_disc - 0.01 <= f.col(\"l_discount\")) & (f.col(\"l_discount\") <= the_disc + 0.01))\\\n",
    "            .where( f.col('l_quantity') < the_quantity)\\\n",
    "            .agg(f.sum(f.col('l_extendedprice') * f.col('l_discount')).alias('revenue'))\n",
    "    \n",
    "exact_result = compute_exact_result(lineitem, DATE, DISCOUNT, QUANTITY).cache()\n",
    "exact_result.show()"
   ]
  },
  {
   "cell_type": "markdown",
   "metadata": {},
   "source": [
    "# 1. Stratified Sampling\n",
    "## 1.1. Construction"
   ]
  },
  {
   "cell_type": "code",
   "execution_count": 17,
   "metadata": {
    "scrolled": true
   },
   "outputs": [
    {
     "name": "stdout",
     "output_type": "stream",
     "text": [
      "Construction time is  3.4271335519999866\n"
     ]
    }
   ],
   "source": [
    "start = timeit.default_timer()\n",
    "sample_df = stratified_sampling.generate_stratified_sample(lineitem, QCS, 0.01, 0.99).cache(); sample_df.count()\n",
    "count_df = lineitem.groupby(QCS).count()\n",
    "stop = timeit.default_timer()\n",
    "CONSTRUCTION_TIME[0] = stop - start\n",
    "print('Construction time is ', stop - start)"
   ]
  },
  {
   "cell_type": "markdown",
   "metadata": {},
   "source": [
    "### Space"
   ]
  },
  {
   "cell_type": "code",
   "execution_count": 18,
   "metadata": {},
   "outputs": [
    {
     "name": "stdout",
     "output_type": "stream",
     "text": [
      "The size of the object in MB:  1.078598976135254\n",
      "The size of the object in MB:  0.26728343963623047\n"
     ]
    }
   ],
   "source": [
    "SPACE[0] = calculate_size_of(sample_df.toPandas()) + calculate_size_of(count_df.toPandas())"
   ]
  },
  {
   "cell_type": "markdown",
   "metadata": {},
   "source": [
    "## 1.2. Execution\n"
   ]
  },
  {
   "cell_type": "code",
   "execution_count": 19,
   "metadata": {},
   "outputs": [],
   "source": [
    "def compute_approximate_result(sample_df, count_df, the_date, the_disc, the_quantity):\n",
    "    count_df_ = count_df.where( (the_date <= f.col(\"l_shipdate\")) & (f.col(\"l_shipdate\") < the_date + timedelta(days = 365)))\\\n",
    "            .where( (the_disc - 0.01 <= f.col(\"l_discount\")) & (f.col(\"l_discount\") <= the_disc + 0.01))\\\n",
    "            .where( f.col('l_quantity') < the_quantity).agg(f.sum('count'))\\\n",
    "            .withColumn('id', f.monotonically_increasing_id())\n",
    "    \n",
    "    sample_df_avg = sample_df.where( (the_date <= f.col(\"l_shipdate\")) & (f.col(\"l_shipdate\") < the_date + timedelta(days = 365)))\\\n",
    "            .where( (the_disc - 0.01 <= f.col(\"l_discount\")) & (f.col(\"l_discount\") <= the_disc + 0.01))\\\n",
    "            .where( f.col('l_quantity') < the_quantity)\\\n",
    "            .agg(f.avg(f.col('l_extendedprice') * f.col('l_discount')).alias('revenue'))\\\n",
    "            .withColumn('id', f.monotonically_increasing_id())\n",
    "    \n",
    "    return sample_df_avg.join(count_df_, 'id')\\\n",
    "                .select( (f.col('sum(count)') * f.col('revenue')).alias('revenue') )"
   ]
  },
  {
   "cell_type": "markdown",
   "metadata": {},
   "source": [
    "### Execution Time"
   ]
  },
  {
   "cell_type": "code",
   "execution_count": 23,
   "metadata": {
    "scrolled": false
   },
   "outputs": [
    {
     "name": "stdout",
     "output_type": "stream",
     "text": [
      "+-------------+\n",
      "|      revenue|\n",
      "+-------------+\n",
      "|127652.245005|\n",
      "+-------------+\n",
      "\n",
      "Execution time is  0.13169842499996776\n"
     ]
    }
   ],
   "source": [
    "start = timeit.default_timer()\n",
    "sample_result = compute_approximate_result(sample_df, count_df, DATE, DISCOUNT, QUANTITY).cache(); sample_result.show()\n",
    "stop = timeit.default_timer()\n",
    "EXECUTION_TIME[0] = stop - start\n",
    "print('Execution time is ', stop - start)"
   ]
  },
  {
   "cell_type": "markdown",
   "metadata": {},
   "source": [
    "### Error"
   ]
  },
  {
   "cell_type": "code",
   "execution_count": 24,
   "metadata": {},
   "outputs": [
    {
     "data": {
      "text/html": [
       "<div>\n",
       "<style scoped>\n",
       "    .dataframe tbody tr th:only-of-type {\n",
       "        vertical-align: middle;\n",
       "    }\n",
       "\n",
       "    .dataframe tbody tr th {\n",
       "        vertical-align: top;\n",
       "    }\n",
       "\n",
       "    .dataframe thead th {\n",
       "        text-align: right;\n",
       "    }\n",
       "</style>\n",
       "<table border=\"1\" class=\"dataframe\">\n",
       "  <thead>\n",
       "    <tr style=\"text-align: right;\">\n",
       "      <th></th>\n",
       "      <th>revenue</th>\n",
       "    </tr>\n",
       "  </thead>\n",
       "  <tbody>\n",
       "    <tr>\n",
       "      <th>0</th>\n",
       "      <td>3.916899e-09</td>\n",
       "    </tr>\n",
       "  </tbody>\n",
       "</table>\n",
       "</div>"
      ],
      "text/plain": [
       "        revenue\n",
       "0  3.916899e-09"
      ]
     },
     "execution_count": 24,
     "metadata": {},
     "output_type": "execute_result"
    }
   ],
   "source": [
    "sample_error = calculate_error(sample_result, exact_result)\n",
    "sample_error"
   ]
  },
  {
   "cell_type": "code",
   "execution_count": 25,
   "metadata": {},
   "outputs": [],
   "source": [
    "ERROR[0] = (sample_error.mean(), sample_error.std())"
   ]
  },
  {
   "cell_type": "markdown",
   "metadata": {},
   "source": [
    "# 2. Weighted-KDE\n",
    "## 2.1. Construction"
   ]
  },
  {
   "cell_type": "code",
   "execution_count": 11,
   "metadata": {},
   "outputs": [],
   "source": [
    "lineitem_clean = lineitem.withColumn('l_shipdate', f.to_date('l_shipdate', 'yyyy-MM-dd'))\\\n",
    "                            .withColumn('l_extendedprice', f.col('l_extendedprice').cast('float'))\\\n",
    "                            .withColumn('l_discount', f.col('l_discount').cast('float'))\\\n",
    "                            .withColumn('l_quantity', f.col('l_quantity').cast('float'))"
   ]
  },
  {
   "cell_type": "code",
   "execution_count": 12,
   "metadata": {},
   "outputs": [],
   "source": [
    "transform, i_transform = {}, {}\n",
    "normalize = {}\n",
    "\n",
    "START_DATE = lineitem_clean.select(f.min('l_shipdate')).first()[0]\n",
    "END_DATE = lineitem_clean.select(f.max('l_shipdate')).first()[0]\n",
    "normalize['date'] = (START_DATE, END_DATE)\n",
    "def lambda_normalize_date(x):\n",
    "    transformed_date = -1 + 2 * (x - normalize['date'][0]).days / (normalize['date'][1] - normalize['date'][0]).days\n",
    "    if transformed_date < -1: return -1\n",
    "    elif transformed_date > 1: return 1\n",
    "    else: return transformed_date\n",
    "transform['date'] = lambda_normalize_date\n",
    "\n",
    "MIN_QUANTITY = lineitem_clean.select(f.min('l_quantity')).first()[0]\n",
    "MAX_QUANTITY = lineitem_clean.select(f.max('l_quantity')).first()[0]\n",
    "normalize['quantity'] = (MIN_QUANTITY, MAX_QUANTITY)\n",
    "transform['quantity'] = lambda x: -1 + 2 * (x - normalize['quantity'][0])/(normalize['quantity'][1] - normalize['quantity'][0])\n",
    "i_transform['quantity'] = lambda x: 0.5 * (x + 1) * (normalize['quantity'][1] - normalize['quantity'][0]) + normalize['quantity'][0]\n",
    "\n",
    "MIN_DISC = lineitem_clean.select(f.min('l_discount')).first()[0]\n",
    "MAX_DISC = lineitem_clean.select(f.max('l_discount')).first()[0]\n",
    "normalize['disc'] = (MIN_DISC, MAX_DISC)\n",
    "transform['disc'] = lambda x: -1 + 2 * (x - normalize['disc'][0])/(normalize['disc'][1] - normalize['disc'][0])\n",
    "i_transform['disc'] = lambda x: 0.5 * (x + 1) * (normalize['disc'][1] - normalize['disc'][0]) + normalize['disc'][0]"
   ]
  },
  {
   "cell_type": "markdown",
   "metadata": {},
   "source": [
    "### Construction"
   ]
  },
  {
   "cell_type": "code",
   "execution_count": 15,
   "metadata": {},
   "outputs": [],
   "source": [
    "def kde_based_method_construction(lineitem_clean, bw='scott'):\n",
    "    X = lineitem_clean.groupby('l_shipdate', 'l_discount', 'l_quantity')\\\n",
    "            .agg(f.sum(f.col('l_extendedprice') * f.col('l_discount')).alias('revenue')).rdd.collect()\n",
    "    \n",
    "    X_shipdate = [transform['date'](row['l_shipdate']) for row in X]\n",
    "    X_discount = [transform['disc'](row['l_discount']) for row in X]\n",
    "    X_quantity = [transform['quantity'](row['l_quantity']) for row in X]\n",
    "    X_revenue = [row['revenue'] for row in X]\n",
    "    \n",
    "    hashMap_kde = dict()\n",
    "    hashMap_kde['revenue'] = gaussian_kde( [X_shipdate, X_discount, X_quantity], bw_method=bw, weights=X_revenue)\n",
    "    hashMap_kde['revenue_sum'] = np.sum(X_revenue)\n",
    "    \n",
    "    return hashMap_kde"
   ]
  },
  {
   "cell_type": "code",
   "execution_count": 16,
   "metadata": {
    "scrolled": false
   },
   "outputs": [
    {
     "name": "stdout",
     "output_type": "stream",
     "text": [
      "1.3442616520000001\n"
     ]
    }
   ],
   "source": [
    "start = timeit.default_timer()\n",
    "hashMap_kde = kde_based_method_construction(lineitem_clean)\n",
    "stop = timeit.default_timer()\n",
    "CONSTRUCTION_TIME[1] = stop - start\n",
    "print(stop - start)"
   ]
  },
  {
   "cell_type": "markdown",
   "metadata": {},
   "source": [
    "### Space"
   ]
  },
  {
   "cell_type": "code",
   "execution_count": 17,
   "metadata": {},
   "outputs": [
    {
     "name": "stdout",
     "output_type": "stream",
     "text": [
      "The size of the object in MB:  1.4980688095092773\n"
     ]
    }
   ],
   "source": [
    "SPACE[1] = calculate_size_of(hashMap_kde)"
   ]
  },
  {
   "cell_type": "markdown",
   "metadata": {},
   "source": [
    "## Testing"
   ]
  },
  {
   "cell_type": "code",
   "execution_count": 33,
   "metadata": {},
   "outputs": [],
   "source": [
    "def kde_based_method_testing(hashMap_kde, the_date, the_disc, the_quantity, bw='scott'):\n",
    "    '''\n",
    "    Args:\n",
    "        strata_catalogue: pre-saved DF with schema: flag, status, stratum_str\n",
    "        hashMap_kde: stratum_string -> Actual Kernel Density Estimation Models that corresponds to this stratum\n",
    "        left_date, right_date: datetime objects\n",
    "    Return:\n",
    "        Q1_kde_approx: A dataframe of pySpark\n",
    "    '''\n",
    "    \n",
    "    l_date, r_date = transform['date'](the_date), transform['date'](the_date + timedelta(days = 365))\n",
    "    l_disc, r_disc = transform['disc'](the_disc - 0.01), transform['disc'](the_disc + 0.01)\n",
    "    l_qty, r_qty =  -np.inf, transform['quantity'](the_quantity)\n",
    "    \n",
    "    res = hashMap_kde['revenue'].integrate_box([l_date, l_disc, l_qty], [r_date, r_disc, r_qty]) * hashMap_kde['revenue_sum'] \n",
    "    \n",
    "    return spark.createDataFrame([float(res)], \"float\").toDF(\"revenue\")\n"
   ]
  },
  {
   "cell_type": "markdown",
   "metadata": {},
   "source": [
    "### Execution"
   ]
  },
  {
   "cell_type": "code",
   "execution_count": 34,
   "metadata": {
    "scrolled": false
   },
   "outputs": [
    {
     "name": "stdout",
     "output_type": "stream",
     "text": [
      "+---------+\n",
      "|  revenue|\n",
      "+---------+\n",
      "|3347749.0|\n",
      "+---------+\n",
      "\n",
      "Execution time is 5.37860697900004\n"
     ]
    },
    {
     "name": "stderr",
     "output_type": "stream",
     "text": [
      "/Users/futongliu/opt/anaconda3/envs/ada/lib/python3.7/site-packages/scipy/stats/kde.py:385: UserWarning: An integral in mvn.mvnun requires more points than 3000\n",
      "  warnings.warn(msg)\n"
     ]
    }
   ],
   "source": [
    "start = timeit.default_timer()\n",
    "weighed_kde_result = kde_based_method_testing(hashMap_kde, DATE, DISCOUNT, QUANTITY).cache(); weighed_kde_result.show()\n",
    "stop = timeit.default_timer()\n",
    "EXECUTION_TIME[1] = stop - start\n",
    "print('Execution time is', stop - start)"
   ]
  },
  {
   "cell_type": "markdown",
   "metadata": {},
   "source": [
    "### Error"
   ]
  },
  {
   "cell_type": "code",
   "execution_count": 20,
   "metadata": {},
   "outputs": [],
   "source": [
    "weighted_kde_error = calculate_error(weighed_kde_result, exact_result)\n",
    "ERROR[1] = (weighted_kde_error.mean(), weighted_kde_error.mean())"
   ]
  },
  {
   "cell_type": "code",
   "execution_count": 21,
   "metadata": {},
   "outputs": [
    {
     "data": {
      "text/html": [
       "<div>\n",
       "<style scoped>\n",
       "    .dataframe tbody tr th:only-of-type {\n",
       "        vertical-align: middle;\n",
       "    }\n",
       "\n",
       "    .dataframe tbody tr th {\n",
       "        vertical-align: top;\n",
       "    }\n",
       "\n",
       "    .dataframe thead th {\n",
       "        text-align: right;\n",
       "    }\n",
       "</style>\n",
       "<table border=\"1\" class=\"dataframe\">\n",
       "  <thead>\n",
       "    <tr style=\"text-align: right;\">\n",
       "      <th></th>\n",
       "      <th>revenue</th>\n",
       "    </tr>\n",
       "  </thead>\n",
       "  <tbody>\n",
       "    <tr>\n",
       "      <th>0</th>\n",
       "      <td>39.595536</td>\n",
       "    </tr>\n",
       "  </tbody>\n",
       "</table>\n",
       "</div>"
      ],
      "text/plain": [
       "     revenue\n",
       "0  39.595536"
      ]
     },
     "execution_count": 21,
     "metadata": {},
     "output_type": "execute_result"
    }
   ],
   "source": [
    "weighted_kde_error"
   ]
  },
  {
   "cell_type": "code",
   "execution_count": null,
   "metadata": {},
   "outputs": [],
   "source": []
  },
  {
   "cell_type": "code",
   "execution_count": null,
   "metadata": {},
   "outputs": [],
   "source": []
  },
  {
   "cell_type": "code",
   "execution_count": null,
   "metadata": {},
   "outputs": [],
   "source": []
  },
  {
   "cell_type": "markdown",
   "metadata": {},
   "source": [
    "# 3. How does the number of dimensions influence the performance"
   ]
  },
  {
   "cell_type": "code",
   "execution_count": 22,
   "metadata": {},
   "outputs": [],
   "source": [
    "def kde_based_method_1D(hashMap_kde, the_quantity):\n",
    "    exact = lineitem.where( f.col('l_quantity') < the_quantity)\\\n",
    "            .agg(f.sum(f.col('l_extendedprice') * f.col('l_discount')).alias('revenue')).first()[0]\n",
    "    exact = float(exact)\n",
    "    \n",
    "    r_qty = transform['quantity'](the_quantity)\n",
    "    res = hashMap_kde['revenue'].integrate_box([-np.inf, -np.inf, -np.inf], [np.inf, np.inf, r_qty]) * hashMap_kde['revenue_sum'] \n",
    "    \n",
    "    return (exact - res) / exact"
   ]
  },
  {
   "cell_type": "code",
   "execution_count": 23,
   "metadata": {},
   "outputs": [],
   "source": [
    "def kde_based_method_2D(hashMap_kde, the_date, the_quantity, bw=.01):\n",
    "    exact = lineitem.where( f.col('l_quantity') < the_quantity)\\\n",
    "            .where( (the_date <= f.col(\"l_shipdate\")) & (f.col(\"l_shipdate\") < the_date + timedelta(days = 365)))\\\n",
    "            .agg(f.sum(f.col('l_extendedprice') * f.col('l_discount')).alias('revenue')).first()[0]\n",
    "    exact = float(exact)\n",
    "    \n",
    "    l_date, r_date = transform['date'](the_date), transform['date'](the_date + timedelta(days = 365))\n",
    "    l_qty, r_qty =  -np.inf, transform['quantity'](the_quantity)\n",
    "    res = hashMap_kde['revenue'].integrate_box([l_date, -np.inf, l_qty], [r_date, np.inf, r_qty]) * hashMap_kde['revenue_sum'] \n",
    "    \n",
    "    return (exact - res) / exact"
   ]
  },
  {
   "cell_type": "code",
   "execution_count": 24,
   "metadata": {},
   "outputs": [],
   "source": [
    "def kde_based_method_3D(hashMap_kde, the_date, the_discount, the_quantity, bw=.01):\n",
    "    exact = compute_exact_result(lineitem, the_date, the_discount, the_quantity).first()[0]\n",
    "    exact = float(exact)\n",
    "    \n",
    "    res = kde_based_method_testing(hashMap_kde, the_date, the_discount, the_quantity).first()[0]; #kde_result.show()\n",
    "\n",
    "    return (exact - res) / exact"
   ]
  },
  {
   "cell_type": "code",
   "execution_count": 25,
   "metadata": {},
   "outputs": [],
   "source": [
    "def effect_of_dimenionality(quantity_range):\n",
    "    error_bank = []\n",
    "    for q in quantity_range:\n",
    "        error_1d = kde_based_method_1D(hashMap_kde, q)\n",
    "        error_2d = kde_based_method_2D(hashMap_kde, DATE, q)\n",
    "        error_3d = kde_based_method_3D(hashMap_kde, DATE, DISCOUNT, q)\n",
    "        error_bank.append([error_1d, error_2d, error_3d])\n",
    "    return error_bank"
   ]
  },
  {
   "cell_type": "code",
   "execution_count": 26,
   "metadata": {},
   "outputs": [
    {
     "data": {
      "text/plain": [
       "[[-4.37481689171183, -4.477947980542624, -7.791698960713419],\n",
       " [-0.09689302629493052, -0.13412742643282838, -0.8613893546470632],\n",
       " [-0.07276033531313998, -0.07583503926472118, -0.5796388505322264],\n",
       " [-0.0894254415285541, -0.09945921541498608, -0.6861227465018283],\n",
       " [0.00158062077626182, -0.00690933728064546, -0.44919277119564793],\n",
       " [-0.02264953401218724, -0.009664142192562052, -0.3778080151802254],\n",
       " [-0.03707197137384898, -0.02756644763399232, -0.37155417938768526],\n",
       " [0.005545727988380883, 0.01308217705797555, -0.3424746973702583],\n",
       " [-0.012003378026759152, -0.010269714686144703, -0.4155787704542602],\n",
       " [0.014443362926561332, 0.011834236144471072, -0.395955360336938]]"
      ]
     },
     "execution_count": 26,
     "metadata": {},
     "output_type": "execute_result"
    }
   ],
   "source": [
    "quantity_range = np.linspace(2, 50, 10)\n",
    "error_bank = effect_of_dimenionality(quantity_range)\n",
    "error_bank"
   ]
  },
  {
   "cell_type": "code",
   "execution_count": 38,
   "metadata": {},
   "outputs": [
    {
     "data": {
      "image/png": "[encoded data removed]",
      "text/plain": [
       "<Figure size 432x288 with 1 Axes>"
      ]
     },
     "metadata": {
      "needs_background": "light"
     },
     "output_type": "display_data"
    }
   ],
   "source": [
    "plt.figure(figsize=(6, 4))\n",
    "plt.plot(quantity_range, np.abs(error_bank)[:,0] * 100, label='1D')\n",
    "plt.plot(quantity_range, np.abs(error_bank)[:,1] * 100, label='2D')\n",
    "plt.plot(quantity_range, np.abs(error_bank)[:,2] * 100, label='3D')\n",
    "plt.legend()\n",
    "plt.xlabel('Quantity')\n",
    "plt.ylabel('Relative Error')\n",
    "plt.ylim(0,120)\n",
    "plt.savefig('./figs/Q6_curse.png')"
   ]
  },
  {
   "cell_type": "markdown",
   "metadata": {},
   "source": [
    "Distributino of column \"l_discount\""
   ]
  },
  {
   "cell_type": "code",
   "execution_count": 151,
   "metadata": {},
   "outputs": [
    {
     "data": {
      "text/plain": [
       "array([[<matplotlib.axes._subplots.AxesSubplot object at 0x1a1dce7150>]],\n",
       "      dtype=object)"
      ]
     },
     "execution_count": 151,
     "metadata": {},
     "output_type": "execute_result"
    },
    {
     "data": {
      "image/png": "[encoded data removed]",
      "text/plain": [
       "<Figure size 432x288 with 1 Axes>"
      ]
     },
     "metadata": {
      "needs_background": "light"
     },
     "output_type": "display_data"
    }
   ],
   "source": [
    "spark.read.parquet(\"/Users/futongliu/Downloads/SemesterProject/tpch_parquet_sf1/lineitem.parquet\").select('l_discount').toPandas().astype(float).hist()"
   ]
  },
  {
   "cell_type": "code",
   "execution_count": null,
   "metadata": {},
   "outputs": [],
   "source": []
  }
 ],
 "metadata": {
  "kernelspec": {
   "display_name": "Python [conda env:ada] *",
   "language": "python",
   "name": "conda-env-ada-py"
  },
  "language_info": {
   "codemirror_mode": {
    "name": "ipython",
    "version": 3
   },
   "file_extension": ".py",
   "mimetype": "text/x-python",
   "name": "python",
   "nbconvert_exporter": "python",
   "pygments_lexer": "ipython3",
   "version": "3.7.5"
  }
 },
 "nbformat": 4,
 "nbformat_minor": 2
}
