{
 "cells": [
  {
   "cell_type": "markdown",
   "metadata": {},
   "source": [
    "# Query 5\n",
    "0. Exact result\n",
    "1. Stratified sampling\n",
    "2. Weighted KDE\n",
    "3. Analysis based on regions"
   ]
  },
  {
   "cell_type": "code",
   "execution_count": null,
   "metadata": {},
   "outputs": [],
   "source": [
    "select\n",
    "\tn_name,\n",
    "\tsum(l_extendedprice * (1 - l_discount)) as revenue\n",
    "from\n",
    "\tcustomer,\n",
    "\torders,\n",
    "\tlineitem,\n",
    "\tsupplier,\n",
    "\tnation,\n",
    "\tregion\n",
    "where\n",
    "\tc_custkey = o_custkey\n",
    "\tand l_orderkey = o_orderkey\n",
    "\tand l_suppkey = s_suppkey\n",
    "\tand c_nationkey = s_nationkey\n",
    "\tand s_nationkey = n_nationkey\n",
    "\tand n_regionkey = r_regionkey\n",
    "\tand r_name = ':1'\n",
    "\tand o_orderdate >= date ':2'\n",
    "\tand o_orderdate < date ':2' + interval '1' year\n",
    "group by\n",
    "\tn_name\n",
    "order by\n",
    "\trevenue desc;"
   ]
  },
  {
   "cell_type": "code",
   "execution_count": 1,
   "metadata": {},
   "outputs": [],
   "source": [
    "import numpy as np\n",
    "import pandas as pd\n",
    "import matplotlib\n",
    "import matplotlib.pyplot as plt\n",
    "from distutils.version import LooseVersion\n",
    "\n",
    "from collections import Counter\n",
    "\n",
    "import scipy\n",
    "from scipy.stats import gaussian_kde\n",
    "from scipy import integrate\n",
    "\n",
    "import timeit\n",
    "import pickle\n",
    "from datetime import date, timedelta\n",
    "import sys\n",
    "import scipy.stats as st\n",
    "from random import random"
   ]
  },
  {
   "cell_type": "code",
   "execution_count": 2,
   "metadata": {},
   "outputs": [],
   "source": [
    "import pyspark\n",
    "import pyspark.sql\n",
    "from pyspark.sql import *\n",
    "import pyspark.sql.functions as f\n",
    "from pyspark.sql.functions import col\n",
    "\n",
    "from pyspark import broadcast\n",
    "# To avoid OverflowError: cannot serialize a string larger than 4GiB\n",
    "def broadcast_dump(self, value, f):\n",
    "    pickle.dump(value, f, 4)  # was 2, 4 is first protocol supporting >4GB\n",
    "    f.close()\n",
    "    return f.name\n",
    "broadcast.Broadcast.dump = broadcast_dump\n",
    "\n",
    "conf = pyspark.SparkConf().setMaster(\"local[16]\").setAll([\n",
    "                                   ('spark.executor.memory', '4g'),  # find\n",
    "                                   ('spark.driver.memory','10g'), # your\n",
    "                                   ('spark.driver.maxResultSize', '4G') # setup\n",
    "                                  ])\n",
    "# create the session\n",
    "spark = SparkSession.builder.config(conf=conf).getOrCreate()\n",
    "\n",
    "# create the context\n",
    "sc = spark.sparkContext\n",
    "\n",
    "# FIX for Spark 2.x\n",
    "locale = sc._jvm.java.util.Locale\n",
    "locale.setDefault(locale.forLanguageTag(\"en-US\"))"
   ]
  },
  {
   "cell_type": "code",
   "execution_count": 3,
   "metadata": {},
   "outputs": [
    {
     "data": {
      "text/html": [
       "<style>.container { width:90% !important; }</style>"
      ],
      "text/plain": [
       "<IPython.core.display.HTML object>"
      ]
     },
     "metadata": {},
     "output_type": "display_data"
    }
   ],
   "source": [
    "from IPython.core.display import display, HTML\n",
    "display(HTML(\"<style>.container { width:90% !important; }</style>\"))"
   ]
  },
  {
   "cell_type": "code",
   "execution_count": 4,
   "metadata": {},
   "outputs": [],
   "source": [
    "import stratified_sampling"
   ]
  },
  {
   "cell_type": "code",
   "execution_count": 5,
   "metadata": {},
   "outputs": [],
   "source": [
    "lineitem = spark.read.parquet(\"/Users/futongliu/Downloads/SemesterProject/tpch_parquet_sf1/lineitem.parquet\")#.limit(3000)\n",
    "nation = spark.read.parquet(\"/Users/futongliu/Downloads/SemesterProject/tpch_parquet_sf1/nation.parquet\")#.limit(3000)\n",
    "region = spark.read.parquet(\"/Users/futongliu/Downloads/SemesterProject/tpch_parquet_sf1/region.parquet\")#.limit(3000)\n",
    "customer = spark.read.parquet(\"/Users/futongliu/Downloads/SemesterProject/tpch_parquet_sf1/customer.parquet\")#.limit(3000)\n",
    "orders = spark.read.parquet(\"/Users/futongliu/Downloads/SemesterProject/tpch_parquet_sf1/order.parquet\")#.limit(3000)\n",
    "supplier = spark.read.parquet(\"/Users/futongliu/Downloads/SemesterProject/tpch_parquet_sf1/supplier.parquet\")#.limit(3000)"
   ]
  },
  {
   "cell_type": "markdown",
   "metadata": {},
   "source": [
    "### Helper Functions"
   ]
  },
  {
   "cell_type": "code",
   "execution_count": 6,
   "metadata": {},
   "outputs": [],
   "source": [
    "def calculate_error(Q1_approx, Q1_exact):\n",
    "    df_2 = Q1_approx.toPandas().set_index(['n_name']).astype(float)\n",
    "    df_1 = Q1_exact.toPandas().set_index(['n_name']).astype(float)\n",
    "    return abs(df_2 - df_1) * 100 / df_1\n",
    "\n",
    "def calculate_size_of(obj):\n",
    "    p = pickle.dumps(obj)\n",
    "    size = sys.getsizeof(p)\n",
    "    print('The size of the object in MB: ', size / 2 ** 20)\n",
    "    return size"
   ]
  },
  {
   "cell_type": "code",
   "execution_count": 7,
   "metadata": {},
   "outputs": [],
   "source": [
    "REGION_NAMES = region.select('r_name').distinct().toPandas().r_name.values"
   ]
  },
  {
   "cell_type": "code",
   "execution_count": 8,
   "metadata": {},
   "outputs": [],
   "source": [
    "REGION_NAME = 'AMERICA'\n",
    "THE_DATE = date(1995, 6, 20)\n",
    "QCS = ['r_name', 'o_orderdate', 'n_name']"
   ]
  },
  {
   "cell_type": "code",
   "execution_count": 9,
   "metadata": {},
   "outputs": [],
   "source": [
    "CONSTRUCTION_TIME = [0] * 2\n",
    "EXECUTION_TIME = [0] * 2\n",
    "SPACE = [0] * 2\n",
    "ERROR = [0] * 2"
   ]
  },
  {
   "cell_type": "markdown",
   "metadata": {},
   "source": [
    "# 0. Exact Result"
   ]
  },
  {
   "cell_type": "code",
   "execution_count": 10,
   "metadata": {
    "scrolled": true
   },
   "outputs": [],
   "source": [
    "df = customer.join(orders, customer.c_custkey == orders.o_custkey)\\\n",
    "            .join(lineitem, lineitem.l_orderkey == orders.o_orderkey)\\\n",
    "            .join(supplier, (lineitem.l_suppkey == supplier.s_suppkey) & (customer.c_nationkey == supplier.s_nationkey))\\\n",
    "            .join(nation, supplier.s_nationkey == nation.n_nationkey)\\\n",
    "            .join(region, nation.n_regionkey == region.r_regionkey)"
   ]
  },
  {
   "cell_type": "code",
   "execution_count": 11,
   "metadata": {},
   "outputs": [
    {
     "name": "stdout",
     "output_type": "stream",
     "text": [
      "+-------------+-------------+\n",
      "|       n_name|      revenue|\n",
      "+-------------+-------------+\n",
      "|    ARGENTINA|56029331.1951|\n",
      "|         PERU|54089144.1469|\n",
      "|       CANADA|53544241.6835|\n",
      "|UNITED STATES|52749687.0780|\n",
      "|       BRAZIL|49761701.3594|\n",
      "+-------------+-------------+\n",
      "\n",
      "Exact query execution time:  7.292901909999998\n"
     ]
    }
   ],
   "source": [
    "def compute_exact_result(df, region_name, the_date):\n",
    "    return df.where(df.r_name == region_name)\\\n",
    "            .where( (the_date <= f.col(\"o_orderdate\")) & (f.col(\"o_orderdate\") < the_date + timedelta(days = 365)))\\\n",
    "            .groupby(\"n_name\")\\\n",
    "            .agg(f.sum(col('l_extendedprice') * (1 - col('l_discount'))).alias('revenue'))\\\n",
    "            .sort(\"revenue\", ascending = False)\n",
    "    \n",
    "start = timeit.default_timer()\n",
    "exact_result = compute_exact_result(df, REGION_NAME, THE_DATE)\n",
    "exact_result.show()\n",
    "stop = timeit.default_timer()\n",
    "print('Exact query execution time: ', stop-start)"
   ]
  },
  {
   "cell_type": "markdown",
   "metadata": {},
   "source": [
    "# 1. Stratified Sampling\n",
    "## 1.1. Construction"
   ]
  },
  {
   "cell_type": "code",
   "execution_count": 12,
   "metadata": {},
   "outputs": [
    {
     "name": "stdout",
     "output_type": "stream",
     "text": [
      "maxStrataSize:  18 minStrataSize:  2.0 midStrataSize:  10.0\n",
      "Estimated error with bisection:  23133211.433972567 User defined error bound 9187722498.97\n",
      "maxStrataSize:  10.0 minStrataSize:  2.0 midStrataSize:  6.0\n",
      "Estimated error with bisection:  24263880.65662764 User defined error bound 9187722498.97\n",
      "maxStrataSize:  6.0 minStrataSize:  2.0 midStrataSize:  4.0\n",
      "Estimated error with bisection:  27628160.67680309 User defined error bound 9187722498.97\n",
      "maxStrataSize:  4.0 minStrataSize:  2.0 midStrataSize:  3.0\n",
      "Estimated error with bisection:  31411640.06318288 User defined error bound 9187722498.97\n",
      "Construction time is  73.18421978099991\n"
     ]
    }
   ],
   "source": [
    "start = timeit.default_timer()\n",
    "sample_df = stratified_sampling.generate_stratified_sample(df, QCS, 0.01, 0.99).cache()\n",
    "count_df = df.groupby(QCS).count(); sample_df.count()\n",
    "stop = timeit.default_timer()\n",
    "CONSTRUCTION_TIME[0] = stop - start\n",
    "print('Construction time is ', stop - start)"
   ]
  },
  {
   "cell_type": "code",
   "execution_count": 13,
   "metadata": {},
   "outputs": [],
   "source": [
    "sample_df.write.parquet('./pickles/Q5_sampleDF')\n",
    "count_df.write.parquet('./pickles/Q5_countDF')"
   ]
  },
  {
   "cell_type": "markdown",
   "metadata": {},
   "source": [
    "### Space"
   ]
  },
  {
   "cell_type": "code",
   "execution_count": 14,
   "metadata": {},
   "outputs": [
    {
     "name": "stdout",
     "output_type": "stream",
     "text": [
      "The size of the object in MB:  138.87238121032715\n",
      "The size of the object in MB:  3.9030189514160156\n"
     ]
    }
   ],
   "source": [
    "SPACE[0] = calculate_size_of(sample_df.toPandas()) + calculate_size_of(count_df.toPandas())"
   ]
  },
  {
   "cell_type": "markdown",
   "metadata": {},
   "source": [
    "## 1.2. Execution\n"
   ]
  },
  {
   "cell_type": "code",
   "execution_count": 16,
   "metadata": {},
   "outputs": [],
   "source": [
    "def compute_approximate_result(sample_df, count_df, region_name, the_date):\n",
    "    count_df_ = count_df.where(f.col('r_name') == region_name)\\\n",
    "            .where( (the_date <= f.col(\"o_orderdate\")) & (f.col(\"o_orderdate\") < the_date + timedelta(days = 365)))\\\n",
    "            .groupby('n_name').sum()\n",
    "    \n",
    "    sample_df_avg = sample_df.where(f.col('r_name') == region_name)\\\n",
    "            .where( (the_date <= f.col(\"o_orderdate\")) & (f.col(\"o_orderdate\") < the_date + timedelta(days = 365)))\\\n",
    "            .groupby('n_name')\\\n",
    "            .agg(f.avg(col('l_extendedprice') * (1 - col('l_discount'))).alias('revenue_avg'))\\\n",
    "            .join(count_df_, 'n_name')\n",
    "    \n",
    "    return sample_df_avg.withColumn('revenue', f.col('revenue_avg') * f.col('sum(count)') )\\\n",
    "            .select(['n_name', 'revenue']).sort(\"revenue\", ascending = False)\n"
   ]
  },
  {
   "cell_type": "markdown",
   "metadata": {},
   "source": [
    "### Execution Time"
   ]
  },
  {
   "cell_type": "code",
   "execution_count": 35,
   "metadata": {
    "scrolled": false
   },
   "outputs": [
    {
     "name": "stdout",
     "output_type": "stream",
     "text": [
      "+-------------+---------------+\n",
      "|       n_name|        revenue|\n",
      "+-------------+---------------+\n",
      "|    ARGENTINA|55671122.132080|\n",
      "|       CANADA|53663976.370541|\n",
      "|         PERU|52676036.106876|\n",
      "|UNITED STATES|51979218.377824|\n",
      "|       BRAZIL|49874503.590009|\n",
      "+-------------+---------------+\n",
      "\n",
      "Execution time is  0.14293764600006398\n"
     ]
    }
   ],
   "source": [
    "start = timeit.default_timer()\n",
    "sample_result = compute_approximate_result(sample_df, count_df, REGION_NAME, THE_DATE).cache(); sample_result.show()\n",
    "stop = timeit.default_timer()\n",
    "EXECUTION_TIME[0] = stop - start\n",
    "print('Execution time is ', stop - start)"
   ]
  },
  {
   "cell_type": "markdown",
   "metadata": {},
   "source": [
    "### Error"
   ]
  },
  {
   "cell_type": "code",
   "execution_count": 18,
   "metadata": {},
   "outputs": [
    {
     "data": {
      "text/html": [
       "<div>\n",
       "<style scoped>\n",
       "    .dataframe tbody tr th:only-of-type {\n",
       "        vertical-align: middle;\n",
       "    }\n",
       "\n",
       "    .dataframe tbody tr th {\n",
       "        vertical-align: top;\n",
       "    }\n",
       "\n",
       "    .dataframe thead th {\n",
       "        text-align: right;\n",
       "    }\n",
       "</style>\n",
       "<table border=\"1\" class=\"dataframe\">\n",
       "  <thead>\n",
       "    <tr style=\"text-align: right;\">\n",
       "      <th></th>\n",
       "      <th>revenue</th>\n",
       "    </tr>\n",
       "    <tr>\n",
       "      <th>n_name</th>\n",
       "      <th></th>\n",
       "    </tr>\n",
       "  </thead>\n",
       "  <tbody>\n",
       "    <tr>\n",
       "      <th>ARGENTINA</th>\n",
       "      <td>0.639324</td>\n",
       "    </tr>\n",
       "    <tr>\n",
       "      <th>BRAZIL</th>\n",
       "      <td>0.226685</td>\n",
       "    </tr>\n",
       "    <tr>\n",
       "      <th>CANADA</th>\n",
       "      <td>0.223618</td>\n",
       "    </tr>\n",
       "    <tr>\n",
       "      <th>PERU</th>\n",
       "      <td>2.612554</td>\n",
       "    </tr>\n",
       "    <tr>\n",
       "      <th>UNITED STATES</th>\n",
       "      <td>1.460613</td>\n",
       "    </tr>\n",
       "  </tbody>\n",
       "</table>\n",
       "</div>"
      ],
      "text/plain": [
       "                revenue\n",
       "n_name                 \n",
       "ARGENTINA      0.639324\n",
       "BRAZIL         0.226685\n",
       "CANADA         0.223618\n",
       "PERU           2.612554\n",
       "UNITED STATES  1.460613"
      ]
     },
     "execution_count": 18,
     "metadata": {},
     "output_type": "execute_result"
    }
   ],
   "source": [
    "sample_error = calculate_error(sample_result, exact_result)\n",
    "sample_error"
   ]
  },
  {
   "cell_type": "code",
   "execution_count": 20,
   "metadata": {},
   "outputs": [
    {
     "data": {
      "text/plain": [
       "(1.0325587951615405, 1.017111830001076)"
      ]
     },
     "execution_count": 20,
     "metadata": {},
     "output_type": "execute_result"
    }
   ],
   "source": [
    "ERROR[0] = sample_error.mean()[0], sample_error.std()[0]\n",
    "ERROR[0]"
   ]
  },
  {
   "cell_type": "markdown",
   "metadata": {},
   "source": [
    "# 2. Weighted-KDE\n",
    "## 2.1. Cleaning and Normalization"
   ]
  },
  {
   "cell_type": "code",
   "execution_count": 17,
   "metadata": {},
   "outputs": [],
   "source": [
    "df_clean = df.withColumn('l_shipdate', f.to_date('l_shipdate', 'yyyy-MM-dd'))\\\n",
    "                .withColumn('l_extendedprice', f.col('l_extendedprice').cast('float'))\\\n",
    "                .withColumn('l_discount', f.col('l_discount').cast('float'))"
   ]
  },
  {
   "cell_type": "code",
   "execution_count": 18,
   "metadata": {},
   "outputs": [],
   "source": [
    "transform, i_transform = {}, {}\n",
    "normalize = {}\n",
    "\n",
    "START_DATE = df_clean.select(f.min('o_orderdate')).first()[0]\n",
    "END_DATE = df_clean.select(f.max('o_orderdate')).first()[0]\n",
    "normalize['date'] = (START_DATE, END_DATE)\n",
    "def lambda_normalize_date(x):\n",
    "    transformed_date = -1 + 2 * (x - normalize['date'][0]).days / (normalize['date'][1] - normalize['date'][0]).days\n",
    "    if transformed_date < -1: return -1\n",
    "    elif transformed_date > 1: return 1\n",
    "    else: return transformed_date\n",
    "transform['date'] = lambda_normalize_date"
   ]
  },
  {
   "cell_type": "code",
   "execution_count": 19,
   "metadata": {},
   "outputs": [],
   "source": [
    "def compute_kdes(s_values, bw='scott'):\n",
    "    '''\n",
    "    Compute the KDE given the block that is already grouped by key \n",
    "    s_values[0]: stratum_str\n",
    "    s_values[1]: iterable block of rows that is identified by this stratum_str\n",
    "    '''\n",
    "    stratum_str, iterable_rows = s_values[0], s_values[1]\n",
    "    kdes_bank = dict()\n",
    "    \n",
    "    # Training Data\n",
    "    X_orderdate = []\n",
    "    X_revenue = []\n",
    "    \n",
    "    # Fill in the training data\n",
    "    for row in iterable_rows:\n",
    "        X_orderdate.append(transform['date'](row['o_orderdate']))\n",
    "        X_revenue.append(row['revenue'])\n",
    "        \n",
    "    # Store the trained model into the KDE bank\n",
    "    kdes_bank['revenue'] = gaussian_kde(X_orderdate, bw_method=bw, weights = X_revenue)\n",
    "    kdes_bank['revenue_sum'] = np.sum(X_revenue)\n",
    "    \n",
    "    stra_list = stratum_str.split(\"_\")\n",
    "    return stra_list + [stratum_str, kdes_bank]"
   ]
  },
  {
   "cell_type": "code",
   "execution_count": 20,
   "metadata": {},
   "outputs": [],
   "source": [
    "def kde_based_method_construction(lineitem_clean):\n",
    "    strat_kde = lineitem_clean.groupby('n_name', 'r_name', 'o_orderdate')\\\n",
    "            .agg(f.sum(col('l_extendedprice') * (1 - col('l_discount'))).alias('revenue')).rdd\\\n",
    "            .map(lambda row: (\"_\".join([row['n_name'], row['r_name']]), row)).groupByKey()\\\n",
    "            .map(compute_kdes)\n",
    "    # (RDD) strat_kde: flag, status, stratum_str, kdes_bank\n",
    "    \n",
    "    hashMap_kde = {stratum_str: kde for stratum_str, kde in strat_kde.map(lambda row: (row[-2], row[-1])).collect()}\n",
    "    # hashMap_kde: stratum_string -> Actual Kernel Density Estimation Models that corresponds to this stratum\n",
    "    # The last two items are: stratum_str(-2), kdes_bank(-1)\n",
    "    \n",
    "    strata_catalogue = strat_kde.map(lambda row: row[:3]).toDF(['n_name', 'r_name', 'stratum_str'])\n",
    "    # (DF) strata_catalogue: flag, status, date, stratum_str\n",
    "    return strata_catalogue, hashMap_kde"
   ]
  },
  {
   "cell_type": "markdown",
   "metadata": {},
   "source": [
    "## 2.2 Construction"
   ]
  },
  {
   "cell_type": "code",
   "execution_count": 21,
   "metadata": {
    "scrolled": false
   },
   "outputs": [
    {
     "name": "stdout",
     "output_type": "stream",
     "text": [
      "+-------------+-----------+--------------------+\n",
      "|       n_name|     r_name|         stratum_str|\n",
      "+-------------+-----------+--------------------+\n",
      "|      MOROCCO|     AFRICA|      MOROCCO_AFRICA|\n",
      "| SAUDI ARABIA|MIDDLE EAST|SAUDI ARABIA_MIDD...|\n",
      "|       CANADA|    AMERICA|      CANADA_AMERICA|\n",
      "|   MOZAMBIQUE|     AFRICA|   MOZAMBIQUE_AFRICA|\n",
      "|      GERMANY|     EUROPE|      GERMANY_EUROPE|\n",
      "|        INDIA|       ASIA|          INDIA_ASIA|\n",
      "|    ARGENTINA|    AMERICA|   ARGENTINA_AMERICA|\n",
      "|        KENYA|     AFRICA|        KENYA_AFRICA|\n",
      "|      ROMANIA|     EUROPE|      ROMANIA_EUROPE|\n",
      "|       JORDAN|MIDDLE EAST|  JORDAN_MIDDLE EAST|\n",
      "|     ETHIOPIA|     AFRICA|     ETHIOPIA_AFRICA|\n",
      "|         IRAN|MIDDLE EAST|    IRAN_MIDDLE EAST|\n",
      "|         IRAQ|MIDDLE EAST|    IRAQ_MIDDLE EAST|\n",
      "|        EGYPT|MIDDLE EAST|   EGYPT_MIDDLE EAST|\n",
      "|      VIETNAM|       ASIA|        VIETNAM_ASIA|\n",
      "|    INDONESIA|       ASIA|      INDONESIA_ASIA|\n",
      "|UNITED STATES|    AMERICA|UNITED STATES_AME...|\n",
      "|       BRAZIL|    AMERICA|      BRAZIL_AMERICA|\n",
      "|         PERU|    AMERICA|        PERU_AMERICA|\n",
      "|      ALGERIA|     AFRICA|      ALGERIA_AFRICA|\n",
      "+-------------+-----------+--------------------+\n",
      "only showing top 20 rows\n",
      "\n",
      "14.710096061000002\n"
     ]
    }
   ],
   "source": [
    "start = timeit.default_timer()\n",
    "strata_catalogue, hashMap_kde = kde_based_method_construction(df_clean)\n",
    "strata_catalogue = strata_catalogue.cache(); strata_catalogue.show()\n",
    "stop = timeit.default_timer()\n",
    "CONSTRUCTION_TIME[1] = stop - start\n",
    "print(stop - start)"
   ]
  },
  {
   "cell_type": "code",
   "execution_count": 22,
   "metadata": {},
   "outputs": [
    {
     "data": {
      "text/plain": [
       "25"
      ]
     },
     "execution_count": 22,
     "metadata": {},
     "output_type": "execute_result"
    }
   ],
   "source": [
    "strata_catalogue.count()"
   ]
  },
  {
   "cell_type": "markdown",
   "metadata": {},
   "source": [
    "### Space"
   ]
  },
  {
   "cell_type": "code",
   "execution_count": 72,
   "metadata": {},
   "outputs": [
    {
     "name": "stdout",
     "output_type": "stream",
     "text": [
      "The size of the object in MB:  0.0019712448120117188\n",
      "The size of the object in MB:  0.9099712371826172\n"
     ]
    },
    {
     "data": {
      "text/plain": [
       "956241"
      ]
     },
     "execution_count": 72,
     "metadata": {},
     "output_type": "execute_result"
    }
   ],
   "source": [
    "SPACE[1] = calculate_size_of(strata_catalogue.toPandas()) + calculate_size_of(hashMap_kde)"
   ]
  },
  {
   "cell_type": "markdown",
   "metadata": {},
   "source": [
    "## 2.3. Testing"
   ]
  },
  {
   "cell_type": "code",
   "execution_count": 23,
   "metadata": {},
   "outputs": [],
   "source": [
    "def kde_based_cal_result(row, the_date, bw):\n",
    "    '''\n",
    "    Compute the result with the KDE models\n",
    "    \n",
    "    row: a row in RDD\n",
    "    '''\n",
    "    revenue = 0\n",
    "    l_date, r_date = transform['date'](the_date), transform['date'](the_date + timedelta(days = 365))\n",
    "    kde_bank = hashMap_kde[row['stratum_str']]\n",
    "    \n",
    "    kde_revenue = kde_bank['revenue']; kde_revenue.set_bandwidth(bw)\n",
    "    revenue = kde_bank['revenue_sum'] * kde_revenue.integrate_box_1d(l_date, r_date)\n",
    "    \n",
    "    return (row['n_name'], row['r_name'], float(revenue))"
   ]
  },
  {
   "cell_type": "code",
   "execution_count": 24,
   "metadata": {},
   "outputs": [],
   "source": [
    "def kde_based_method_testing(strata_catalogue, region_name, the_date, bw = 'scott'):\n",
    "    '''\n",
    "    Args:\n",
    "        strata_catalogue: pre-saved DF with schema: flag, status, stratum_str\n",
    "        hashMap_kde: stratum_string -> Actual Kernel Density Estimation Models that corresponds to this stratum\n",
    "        left_date, right_date: datetime objects\n",
    "    Return:\n",
    "        Q1_kde_approx: A dataframe of pySpark\n",
    "    '''\n",
    "    \n",
    "    Q1_kde_approx = strata_catalogue.rdd.map(lambda x: kde_based_cal_result(x, the_date, bw))\\\n",
    "    .toDF(['n_name', 'r_name', 'revenue']).where(f.col('r_name') == region_name)\\\n",
    "    .select('n_name', 'revenue')\\\n",
    "    .sort('revenue', ascending = False)\n",
    "    \n",
    "    return Q1_kde_approx"
   ]
  },
  {
   "cell_type": "markdown",
   "metadata": {},
   "source": [
    "### Execution"
   ]
  },
  {
   "cell_type": "code",
   "execution_count": 25,
   "metadata": {
    "scrolled": false
   },
   "outputs": [
    {
     "name": "stdout",
     "output_type": "stream",
     "text": [
      "+-------------+--------------------+\n",
      "|       n_name|             revenue|\n",
      "+-------------+--------------------+\n",
      "|    ARGENTINA| 5.481726686670805E7|\n",
      "|       CANADA|5.4303456242637135E7|\n",
      "|         PERU|5.4254683976108514E7|\n",
      "|UNITED STATES|5.2801917522587284E7|\n",
      "|       BRAZIL| 5.059944451721059E7|\n",
      "+-------------+--------------------+\n",
      "\n",
      "Execution time is 2.6595729449999936\n"
     ]
    }
   ],
   "source": [
    "start = timeit.default_timer()\n",
    "weighed_kde_result = kde_based_method_testing(strata_catalogue, REGION_NAME, THE_DATE, .1).cache(); weighed_kde_result.show()\n",
    "stop = timeit.default_timer()\n",
    "EXECUTION_TIME[1] = stop - start\n",
    "print('Execution time is', stop - start)"
   ]
  },
  {
   "cell_type": "markdown",
   "metadata": {},
   "source": [
    "### Error"
   ]
  },
  {
   "cell_type": "code",
   "execution_count": 26,
   "metadata": {},
   "outputs": [],
   "source": [
    "weighted_kde_error = calculate_error(weighed_kde_result, exact_result)\n",
    "ERROR[1] = (weighted_kde_error.mean(), weighted_kde_error.mean())"
   ]
  },
  {
   "cell_type": "code",
   "execution_count": 27,
   "metadata": {},
   "outputs": [
    {
     "data": {
      "text/plain": [
       "revenue    1.133953\n",
       "dtype: float64"
      ]
     },
     "execution_count": 27,
     "metadata": {},
     "output_type": "execute_result"
    }
   ],
   "source": [
    "weighted_kde_error.mean()"
   ]
  },
  {
   "cell_type": "code",
   "execution_count": null,
   "metadata": {},
   "outputs": [],
   "source": []
  },
  {
   "cell_type": "code",
   "execution_count": null,
   "metadata": {},
   "outputs": [],
   "source": []
  },
  {
   "cell_type": "code",
   "execution_count": null,
   "metadata": {},
   "outputs": [],
   "source": []
  },
  {
   "cell_type": "markdown",
   "metadata": {},
   "source": [
    "# 3. Comparison of execution time and Accuracy\n",
    "There are two params that's changeable here in this query 5, region name and order date."
   ]
  },
  {
   "cell_type": "code",
   "execution_count": 34,
   "metadata": {},
   "outputs": [],
   "source": [
    "def evalute_by_r_name():\n",
    "    error_bank, execution_time = [], []\n",
    "\n",
    "    for r_name in REGION_NAMES:\n",
    "        \n",
    "        # Exact\n",
    "        start = timeit.default_timer()\n",
    "        exact_result = compute_exact_result(df, r_name, THE_DATE); exact_result.count()\n",
    "        stop = timeit.default_timer()\n",
    "        exact_time = stop-start\n",
    "\n",
    "        # Stratified Sampling\n",
    "        start = timeit.default_timer()\n",
    "        sample_df = spark.read.parquet('./pickles/Q5_sampleDF')\n",
    "        count_df = spark.read.parquet('./pickles/Q5_countDF')\n",
    "        sample_result = compute_approximate_result(sample_df, count_df, r_name, THE_DATE); sample_result.count()\n",
    "        stop = timeit.default_timer()\n",
    "        samp_time = stop - start\n",
    "        \n",
    "        samp_error = calculate_error(sample_result, exact_result)\n",
    "        samp_error = (samp_error.mean()[0], samp_error.mean()[0])\n",
    "\n",
    "\n",
    "        # KDE-based\n",
    "        start = timeit.default_timer()\n",
    "        weighted_kde_result = kde_based_method_testing(strata_catalogue, r_name, THE_DATE, 'scott').cache(); weighted_kde_result.count()\n",
    "        stop = timeit.default_timer()\n",
    "        kde_time = stop - start\n",
    "        \n",
    "        kde_error = calculate_error(weighted_kde_result, exact_result)\n",
    "        kde_error = (kde_error.mean()[0], kde_error.mean()[0])\n",
    "        \n",
    "        execution_time.append([exact_time, samp_time, kde_time])\n",
    "        error_bank.append([samp_error, kde_error])\n",
    "        \n",
    "    return execution_time, error_bank"
   ]
  },
  {
   "cell_type": "code",
   "execution_count": 35,
   "metadata": {},
   "outputs": [],
   "source": [
    "execution_time, error_bank = evalute_by_r_name()"
   ]
  },
  {
   "cell_type": "code",
   "execution_count": 42,
   "metadata": {},
   "outputs": [
    {
     "data": {
      "image/png": "[encoded data removed]",
      "text/plain": [
       "<Figure size 432x288 with 1 Axes>"
      ]
     },
     "metadata": {
      "needs_background": "light"
     },
     "output_type": "display_data"
    }
   ],
   "source": [
    "# Time\n",
    "plt.figure(figsize=(6, 4))\n",
    "\n",
    "ind = np.arange(len(REGION_NAMES))  # the x locations for the groups\n",
    "width = 0.2  # the width of the bars\n",
    "\n",
    "plt.bar(ind - width, np.array(execution_time)[:,0], width, label='Exact')\n",
    "plt.bar(ind, np.array(execution_time)[:,1], width, label='Stratfied Sampling')\n",
    "plt.bar(ind + width, np.array(execution_time)[:,2], width, label='Weighted KDE')\n",
    "\n",
    "plt.legend()\n",
    "plt.xticks(ind, REGION_NAMES)\n",
    "plt.xlabel('Region Names')\n",
    "plt.ylabel('Time(s)')\n",
    "plt.savefig('./figs/q5_time_region.png')"
   ]
  },
  {
   "cell_type": "code",
   "execution_count": 41,
   "metadata": {},
   "outputs": [
    {
     "data": {
      "image/png": "[encoded data removed]",
      "text/plain": [
       "<Figure size 432x288 with 1 Axes>"
      ]
     },
     "metadata": {
      "needs_background": "light"
     },
     "output_type": "display_data"
    }
   ],
   "source": [
    "plt.figure(figsize=(6, 4))\n",
    "plt.errorbar(ind + .07, [s[0] for s, k in error_bank], yerr=[s[1] for s, k in error_bank],\\\n",
    "             fmt='*', capsize=4, label='Weighted KDE')\n",
    "plt.errorbar(ind - .07, [k[0] for s, k in error_bank], yerr=[k[1] for s, k in error_bank],\\\n",
    "             fmt='o', capsize=4, label='Stratified Sampling')\n",
    "plt.legend()\n",
    "plt.xticks(ind, REGION_NAMES)\n",
    "plt.xlabel('Region Names')\n",
    "plt.ylabel('Relative Error(%)')\n",
    "plt.savefig('./figs/q5_error_region.png')"
   ]
  },
  {
   "cell_type": "code",
   "execution_count": null,
   "metadata": {},
   "outputs": [],
   "source": []
  }
 ],
 "metadata": {
  "kernelspec": {
   "display_name": "Python [conda env:ada] *",
   "language": "python",
   "name": "conda-env-ada-py"
  },
  "language_info": {
   "codemirror_mode": {
    "name": "ipython",
    "version": 3
   },
   "file_extension": ".py",
   "mimetype": "text/x-python",
   "name": "python",
   "nbconvert_exporter": "python",
   "pygments_lexer": "ipython3",
   "version": "3.7.5"
  }
 },
 "nbformat": 4,
 "nbformat_minor": 2
}
