{
 "cells": [
  {
   "cell_type": "markdown",
   "metadata": {},
   "source": [
    "# Query 1\n",
    "\n",
    "0. Exact Result\n",
    "1. Stratifed sampling\n",
    "2. 2D-KDE\n",
    "3. Regression models and KDE\n",
    "4. Weighted KDE\n",
    "5. Further exploration"
   ]
  },
  {
   "cell_type": "code",
   "execution_count": 1,
   "metadata": {},
   "outputs": [],
   "source": [
    "import numpy as np\n",
    "import pandas as pd\n",
    "import matplotlib\n",
    "import matplotlib.pyplot as plt\n",
    "from distutils.version import LooseVersion\n",
    "\n",
    "\n",
    "from scipy.stats import gaussian_kde\n",
    "from collections import Counter\n",
    "\n",
    "import scipy\n",
    "from scipy import integrate\n",
    "import timeit\n",
    "import pickle\n",
    "from datetime import date, timedelta\n",
    "import sys\n",
    "import scipy.stats as st\n",
    "from random import random\n",
    "from sklearn.neighbors import KNeighborsRegressor"
   ]
  },
  {
   "cell_type": "code",
   "execution_count": 2,
   "metadata": {},
   "outputs": [],
   "source": [
    "import pyspark\n",
    "import pyspark.sql\n",
    "from pyspark.sql import *\n",
    "import pyspark.sql.functions as f\n",
    "from pyspark.sql.functions import col\n",
    "\n",
    "from pyspark import broadcast\n",
    "# To avoid OverflowError: cannot serialize a string larger than 4GiB\n",
    "def broadcast_dump(self, value, f):\n",
    "    pickle.dump(value, f, 4)  # was 2, 4 is first protocol supporting >4GB\n",
    "    f.close()\n",
    "    return f.name\n",
    "broadcast.Broadcast.dump = broadcast_dump\n",
    "\n",
    "conf = pyspark.SparkConf().setMaster(\"local[16]\").setAll([\n",
    "                                   ('spark.executor.memory', '12g'),  # find\n",
    "                                   ('spark.driver.memory','12g'), # your\n",
    "                                   ('spark.driver.maxResultSize', '4G') # setup\n",
    "                                  ])\n",
    "# create the session\n",
    "spark = SparkSession.builder.config(conf=conf).getOrCreate()\n",
    "\n",
    "# create the context\n",
    "sc = spark.sparkContext\n",
    "\n",
    "# FIX for Spark 2.x\n",
    "locale = sc._jvm.java.util.Locale\n",
    "locale.setDefault(locale.forLanguageTag(\"en-US\"))"
   ]
  },
  {
   "cell_type": "code",
   "execution_count": 3,
   "metadata": {},
   "outputs": [
    {
     "data": {
      "text/html": [
       "<style>.container { width:90% !important; }</style>"
      ],
      "text/plain": [
       "<IPython.core.display.HTML object>"
      ]
     },
     "metadata": {},
     "output_type": "display_data"
    }
   ],
   "source": [
    "from IPython.core.display import display, HTML\n",
    "display(HTML(\"<style>.container { width:90% !important; }</style>\"))"
   ]
  },
  {
   "cell_type": "code",
   "execution_count": 40,
   "metadata": {},
   "outputs": [],
   "source": [
    "lineitem = spark.read.parquet(\"/Users/futongliu/Downloads/SemesterProject/tpch_parquet_sf1/lineitem.parquet\")"
   ]
  },
  {
   "cell_type": "code",
   "execution_count": 5,
   "metadata": {},
   "outputs": [],
   "source": [
    "LEFT_DATE = date(1998, 12, 1) - timedelta(days = 2000)\n",
    "RIGHT_DATE = date(1998, 12, 1) + timedelta(days = 2000)"
   ]
  },
  {
   "cell_type": "markdown",
   "metadata": {},
   "source": [
    "# 0. Exact Result"
   ]
  },
  {
   "cell_type": "code",
   "execution_count": 29,
   "metadata": {},
   "outputs": [
    {
     "name": "stdout",
     "output_type": "stream",
     "text": [
      "+------------+------------+---------+--------------+--------------+----------------+---------+------------+--------+-----------+\n",
      "|l_returnflag|l_linestatus|  sum_qty|sum_base_price|sum_disc_price|      sum_charge|  avg_qty|   avg_price|avg_disc|count_order|\n",
      "+------------+------------+---------+--------------+--------------+----------------+---------+------------+--------+-----------+\n",
      "|           A|           F| 37327.00|   56204523.56| 53394327.3825| 55452285.086891|25.461801|38338.692742|0.050300|       1466|\n",
      "|           N|           F|  1852.00|    2839903.89|  2719994.3983|  2822487.704927|26.457143|40570.055571|0.047429|         70|\n",
      "|           N|           O|130564.00|  196084910.69|186356186.7909|193935904.883875|25.696516|38591.795058|0.050264|       5081|\n",
      "|           R|           F| 37455.00|   55763795.97| 52976712.3400| 55132177.830708|25.549113|38038.060007|0.049905|       1466|\n",
      "+------------+------------+---------+--------------+--------------+----------------+---------+------------+--------+-----------+\n",
      "\n",
      "Execution time of exact result: 0.704074085000002\n"
     ]
    }
   ],
   "source": [
    "def compute_exact_result(lineitem, left_date, right_date):\n",
    "    return lineitem.where((left_date<=f.col(\"l_shipdate\")) & (f.col(\"l_shipdate\")<=right_date))\\\n",
    "            .groupby(\"l_returnflag\", \"l_linestatus\")\\\n",
    "            .agg(f.sum('l_quantity').alias('sum_qty'), f.sum('l_extendedprice').alias('sum_base_price'), \\\n",
    "                 f.sum(col('l_extendedprice') * (1 - col('l_discount'))).alias('sum_disc_price'),\\\n",
    "                 f.sum(col('l_extendedprice') * (1 - col('l_discount')) * (1 + col('l_tax'))).alias('sum_charge'),\\\n",
    "                 f.avg(\"l_quantity\").alias('avg_qty'), f.avg('l_extendedprice').alias('avg_price'), \\\n",
    "                 f.avg('l_discount').alias('avg_disc'), f.count('*').alias('count_order') )\\\n",
    "            .sort(\"l_returnflag\", \"l_linestatus\")\n",
    "\n",
    "start = timeit.default_timer()\n",
    "exact_result = compute_exact_result(lineitem, LEFT_DATE, RIGHT_DATE)\n",
    "exact_result.show()\n",
    "stop = timeit.default_timer()\n",
    "print('Execution time of exact result:', stop - start)"
   ]
  },
  {
   "cell_type": "markdown",
   "metadata": {},
   "source": [
    "### Helper Functions"
   ]
  },
  {
   "cell_type": "code",
   "execution_count": 6,
   "metadata": {},
   "outputs": [],
   "source": [
    "def calculate_error(Q1_approx, Q1_exact):\n",
    "    df_2 = Q1_approx.toPandas().set_index(['l_returnflag', 'l_linestatus']).astype(float)\n",
    "    df_1 = Q1_exact.toPandas().set_index(['l_returnflag', 'l_linestatus']).astype(float)\n",
    "    return abs(df_2 - df_1) * 100 / df_1\n",
    "\n",
    "def calculate_size_of(obj):\n",
    "    p = pickle.dumps(obj)\n",
    "    size = sys.getsizeof(p)\n",
    "    print('The size of the object in MB: ', size / 2 ** 20)\n",
    "    return size"
   ]
  },
  {
   "cell_type": "code",
   "execution_count": 7,
   "metadata": {},
   "outputs": [],
   "source": [
    "CONSTRUCTION_TIME = [0] * 4\n",
    "EXECUTION_TIME = [0] * 4\n",
    "SPACE = [0] * 4\n",
    "ERROR = [0] * 4"
   ]
  },
  {
   "cell_type": "markdown",
   "metadata": {},
   "source": [
    "# Query 1\n",
    "\n",
    "# 1. Sampling-based\n",
    "\n",
    "## Construction"
   ]
  },
  {
   "cell_type": "code",
   "execution_count": 22,
   "metadata": {},
   "outputs": [],
   "source": [
    "def magic_K_search(dfAgg, aggColumn, z, error_bound):\n",
    "    minStrataSize = 2.0\n",
    "    maxStrataSize = dfAgg.agg(f.max(\"count(\" + aggColumn + \")\")).first()[0]\n",
    "    \n",
    "    magicK = 0.0; sampleSize = 0.0\n",
    "    \n",
    "    # use bisection to find the best (minimum) K\n",
    "    while (minStrataSize + 1 < maxStrataSize):\n",
    "        mid = (minStrataSize + maxStrataSize) // 2\n",
    "        print(\"maxStrataSize: \", maxStrataSize, \"minStrataSize: \", minStrataSize, \"midStrataSize: \", mid)\n",
    "\n",
    "        v_by_n = dfAgg.rdd.map(lambda row: cal_v_by_n(row, mid)).sum()\n",
    "        estimatedError = np.sqrt(v_by_n) * z\n",
    "        print(\"Estimated error with bisection: \", estimatedError, \"User defined error bound\", error_bound)\n",
    "        if estimatedError <= error_bound:\n",
    "            maxStrataSize = mid\n",
    "        else:\n",
    "            minStrataSize = mid\n",
    "      \n",
    "    if np.sqrt(dfAgg.rdd.map(lambda row: cal_v_by_n(row, minStrataSize)).sum()) * z <= error_bound:\n",
    "        magicK = minStrataSize\n",
    "    elif np.sqrt(dfAgg.rdd.map(lambda row: cal_v_by_n(row, minStrataSize)).sum()) * z <= error_bound:\n",
    "        magicK = maxStrataSize\n",
    "    else:\n",
    "    # the required K can't be found\n",
    "        print(\"The required K can't be found\")\n",
    "    return magicK\n",
    "\n",
    "def cal_v_by_n(row, K):\n",
    "    stratumSampleSize = row[0] if row[0] < K else K\n",
    "    error = np.power(row[0], 2) * row[1] / stratumSampleSize\n",
    "    return error"
   ]
  },
  {
   "cell_type": "code",
   "execution_count": 48,
   "metadata": {},
   "outputs": [],
   "source": [
    "def ScaSRS(stra_block, K): \n",
    "    sigma = 0.00005\n",
    "    stratumSize, stratum = len(stra_block[1]), stra_block[1]\n",
    "\n",
    "    if stratumSize <= K:\n",
    "        return stratum\n",
    "    \n",
    "    p = K / stratumSize\n",
    "    gamma1 = -1.0 * (np.log(sigma) / stratumSize)\n",
    "    gamma2 = -1.0 * (2 * np.log(sigma) / 3 / stratumSize)\n",
    "    q1 = min(1, p + gamma1 + np.sqrt(gamma1 * gamma1 + 2 * gamma1 * p))\n",
    "    q2 = max(0, p + gamma2 - np.sqrt(gamma2 * gamma2 + 3 * gamma2 * p))\n",
    "\n",
    "    l = 0\n",
    "    waitlist, res = [], []\n",
    "\n",
    "    for nextRow in stratum:\n",
    "        Xj = random()\n",
    "        if Xj < q2:\n",
    "            res.append(nextRow)\n",
    "            l += 1\n",
    "        elif Xj < q1:\n",
    "            waitlist.append((Xj, nextRow))\n",
    "\n",
    "    # select the smallest pn-l items from waitlist\n",
    "    waitlist.sort()\n",
    "    if int(K - l) > 0:\n",
    "        res += [item[1] for item in waitlist[:int(K-l)]]\n",
    "    return res"
   ]
  },
  {
   "cell_type": "code",
   "execution_count": 49,
   "metadata": {},
   "outputs": [],
   "source": [
    "def generate_stratified_sample(QCS, e, ci):\n",
    "    z = st.norm.ppf(ci)\n",
    "    aggColumn = \"l_extendedprice\"\n",
    "    error_bound = float(lineitem.agg(f.sum(aggColumn)).first()[0])\n",
    "    dfAgg = lineitem.groupBy(QCS).agg(f.count(aggColumn), f.var_pop(aggColumn))\\\n",
    "            .select(\"count(\" + aggColumn + \")\", \"var_pop(\" + aggColumn + \")\")\n",
    "    magicK = magic_K_search(dfAgg, aggColumn, z, error_bound)\n",
    "    stratifiedSample = lineitem.rdd.map(lambda row: ('_'.join([str(row[each]) for each in QCS]), row))\\\n",
    "                        .groupByKey().flatMap(lambda stra_block: ScaSRS(stra_block, magicK))\n",
    "    sampleDF = stratifiedSample.toDF()\n",
    "    return sampleDF"
   ]
  },
  {
   "cell_type": "markdown",
   "metadata": {},
   "source": [
    "## Testing"
   ]
  },
  {
   "cell_type": "code",
   "execution_count": 24,
   "metadata": {},
   "outputs": [],
   "source": [
    "def compute_approximate_result(lineitem_sample, count_df, left_date, right_date):\n",
    "    count_df_ = count_df.where((left_date<=f.col(\"l_shipdate\")) & (f.col(\"l_shipdate\")<=right_date))\\\n",
    "                       .groupby('l_returnflag', 'l_linestatus').agg(f.sum('count').alias('count_order'))\n",
    "    \n",
    "    lineitem_avg = lineitem_sample.where((left_date<=f.col(\"l_shipdate\")) & (f.col(\"l_shipdate\")<=right_date))\\\n",
    "            .groupby(\"l_returnflag\", \"l_linestatus\")\\\n",
    "            .agg(f.avg(col('l_extendedprice') * (1 - col('l_discount'))).alias('avg_disc_price'),\\\n",
    "                 f.avg(col('l_extendedprice') * (1 - col('l_discount')) * (1 + col('l_tax'))).alias('avg_charge'),\\\n",
    "                 f.avg(\"l_quantity\").alias('avg_qty'), f.avg('l_extendedprice').alias('avg_price'), \\\n",
    "                 f.avg('l_discount').alias('avg_disc'))\\\n",
    "           .join(count_df_, [\"l_returnflag\", \"l_linestatus\"])\n",
    "    \n",
    "    return lineitem_avg.withColumn('sum_qty', f.col('avg_qty') * f.col('count_order') )\\\n",
    "                .withColumn('sum_base_price', f.col('avg_price') * f.col('count_order') )\\\n",
    "                .withColumn('sum_disc_price', f.col('avg_disc_price') * f.col('count_order'))\\\n",
    "                .withColumn('sum_charge', f.col('avg_charge') * f.col('count_order'))\\\n",
    "            .select(['l_returnflag','l_linestatus','sum_qty','sum_base_price', 'sum_disc_price', 'sum_charge', 'avg_qty', 'avg_price', 'avg_disc', 'count_order'])\n"
   ]
  },
  {
   "cell_type": "code",
   "execution_count": null,
   "metadata": {},
   "outputs": [],
   "source": []
  },
  {
   "cell_type": "markdown",
   "metadata": {},
   "source": [
    "## Execution\n",
    "### Construction time"
   ]
  },
  {
   "cell_type": "code",
   "execution_count": 53,
   "metadata": {
    "scrolled": false
   },
   "outputs": [],
   "source": [
    "QCS = ['l_returnflag', 'l_linestatus', 'l_shipdate']\n",
    "e, ci = 0.01, 0.99\n",
    "\n",
    "start = timeit.default_timer()\n",
    "sampleDF = generate_stratified_sample(QCS, e, ci).cache(); sampleDF.count()\n",
    "count_df = lineitem.groupby(\"l_returnflag\", \"l_linestatus\", 'l_shipdate').count()\n",
    "stop = timeit.default_timer()\n",
    "EXECUTION_TIME[0] = stop - start\n",
    "print(\"Construction time of stratified-sampling-based method is \", stop - start)\n",
    "\n",
    "sampleDF.write.parquet('./pickles/sampleDF')\n",
    "count_df.write.parquet('./pickles/countDF')"
   ]
  },
  {
   "cell_type": "markdown",
   "metadata": {},
   "source": [
    "### Space"
   ]
  },
  {
   "cell_type": "code",
   "execution_count": 54,
   "metadata": {
    "scrolled": false
   },
   "outputs": [
    {
     "name": "stdout",
     "output_type": "stream",
     "text": [
      "The size of the object in MB:  2.7416296005249023\n",
      "The size of the object in MB:  0.1352987289428711\n"
     ]
    }
   ],
   "source": [
    "SPACE[0] = calculate_size_of(sampleDF.toPandas()) + calculate_size_of(count_df.toPandas())"
   ]
  },
  {
   "cell_type": "markdown",
   "metadata": {},
   "source": [
    "### Execution Time"
   ]
  },
  {
   "cell_type": "code",
   "execution_count": 64,
   "metadata": {},
   "outputs": [
    {
     "name": "stdout",
     "output_type": "stream",
     "text": [
      "+------------+------------+---------------+-------------------+-------------------+-------------------+--------------------+--------------------+--------------------+-----------+\n",
      "|l_returnflag|l_linestatus|        sum_qty|     sum_base_price|     sum_disc_price|         sum_charge|             avg_qty|           avg_price|            avg_disc|count_order|\n",
      "+------------+------------+---------------+-------------------+-------------------+-------------------+--------------------+--------------------+--------------------+-----------+\n",
      "|           N|           F|  920839.800000|  1458617334.055000|  1386682778.716010|  1445756848.963148|23.70000000000000...|37540.98250000000...|0.047833333333333...|      38854|\n",
      "|           A|           F|23805978.975577| 35819333960.181791| 34046623953.602258| 35407193723.080634|26.41451831750339...|39744.23626865671...|0.049430122116689...|     901246|\n",
      "|           N|           O|76924855.769596|115163536368.889050|109290188586.672354|113644650122.641308|25.59897070467141...|38323.99767616785...|0.050680918448139...|    3004998|\n",
      "|           R|           F|22997578.982361| 34547293736.735210| 32822196779.434650| 34152361310.406780|25.48575305291723...|38285.06459294436...|0.049972862957937...|     902370|\n",
      "+------------+------------+---------------+-------------------+-------------------+-------------------+--------------------+--------------------+--------------------+-----------+\n",
      "\n",
      "Execution time of stratified-sampling-based method: 0.27243915500002913\n"
     ]
    }
   ],
   "source": [
    "start = timeit.default_timer()\n",
    "sample_based_result = compute_approximate_result(sampleDF, count_df, LEFT_DATE, RIGHT_DATE)\n",
    "sample_based_result.show()\n",
    "stop = timeit.default_timer()\n",
    "EXECUTION_TIME[0] = stop - start\n",
    "print('Execution time of stratified-sampling-based method:', stop - start)"
   ]
  },
  {
   "cell_type": "markdown",
   "metadata": {},
   "source": [
    "### Relative Error Rate"
   ]
  },
  {
   "cell_type": "code",
   "execution_count": 56,
   "metadata": {},
   "outputs": [
    {
     "data": {
      "text/html": [
       "<div>\n",
       "<style scoped>\n",
       "    .dataframe tbody tr th:only-of-type {\n",
       "        vertical-align: middle;\n",
       "    }\n",
       "\n",
       "    .dataframe tbody tr th {\n",
       "        vertical-align: top;\n",
       "    }\n",
       "\n",
       "    .dataframe thead th {\n",
       "        text-align: right;\n",
       "    }\n",
       "</style>\n",
       "<table border=\"1\" class=\"dataframe\">\n",
       "  <thead>\n",
       "    <tr style=\"text-align: right;\">\n",
       "      <th></th>\n",
       "      <th></th>\n",
       "      <th>sum_qty</th>\n",
       "      <th>sum_base_price</th>\n",
       "      <th>sum_disc_price</th>\n",
       "      <th>sum_charge</th>\n",
       "      <th>avg_qty</th>\n",
       "      <th>avg_price</th>\n",
       "      <th>avg_disc</th>\n",
       "      <th>count_order</th>\n",
       "    </tr>\n",
       "    <tr>\n",
       "      <th>l_returnflag</th>\n",
       "      <th>l_linestatus</th>\n",
       "      <th></th>\n",
       "      <th></th>\n",
       "      <th></th>\n",
       "      <th></th>\n",
       "      <th></th>\n",
       "      <th></th>\n",
       "      <th></th>\n",
       "      <th></th>\n",
       "    </tr>\n",
       "  </thead>\n",
       "  <tbody>\n",
       "    <tr>\n",
       "      <th>A</th>\n",
       "      <th>F</th>\n",
       "      <td>3.479030</td>\n",
       "      <td>3.825740</td>\n",
       "      <td>3.873375</td>\n",
       "      <td>3.869245</td>\n",
       "      <td>3.479028</td>\n",
       "      <td>3.825740</td>\n",
       "      <td>1.022963</td>\n",
       "      <td>0.0</td>\n",
       "    </tr>\n",
       "    <tr>\n",
       "      <th rowspan=\"2\" valign=\"top\">N</th>\n",
       "      <th>F</th>\n",
       "      <td>7.118821</td>\n",
       "      <td>1.942002</td>\n",
       "      <td>1.868213</td>\n",
       "      <td>1.625720</td>\n",
       "      <td>7.118821</td>\n",
       "      <td>1.942002</td>\n",
       "      <td>4.510943</td>\n",
       "      <td>0.0</td>\n",
       "    </tr>\n",
       "    <tr>\n",
       "      <th>O</th>\n",
       "      <td>0.380170</td>\n",
       "      <td>0.198656</td>\n",
       "      <td>0.092130</td>\n",
       "      <td>0.073640</td>\n",
       "      <td>0.380169</td>\n",
       "      <td>0.198656</td>\n",
       "      <td>1.361837</td>\n",
       "      <td>0.0</td>\n",
       "    </tr>\n",
       "    <tr>\n",
       "      <th>R</th>\n",
       "      <th>F</th>\n",
       "      <td>0.054085</td>\n",
       "      <td>0.112414</td>\n",
       "      <td>0.113429</td>\n",
       "      <td>0.167344</td>\n",
       "      <td>0.054087</td>\n",
       "      <td>0.112414</td>\n",
       "      <td>0.042279</td>\n",
       "      <td>0.0</td>\n",
       "    </tr>\n",
       "  </tbody>\n",
       "</table>\n",
       "</div>"
      ],
      "text/plain": [
       "                            sum_qty  sum_base_price  sum_disc_price  \\\n",
       "l_returnflag l_linestatus                                             \n",
       "A            F             3.479030        3.825740        3.873375   \n",
       "N            F             7.118821        1.942002        1.868213   \n",
       "             O             0.380170        0.198656        0.092130   \n",
       "R            F             0.054085        0.112414        0.113429   \n",
       "\n",
       "                           sum_charge   avg_qty  avg_price  avg_disc  \\\n",
       "l_returnflag l_linestatus                                              \n",
       "A            F               3.869245  3.479028   3.825740  1.022963   \n",
       "N            F               1.625720  7.118821   1.942002  4.510943   \n",
       "             O               0.073640  0.380169   0.198656  1.361837   \n",
       "R            F               0.167344  0.054087   0.112414  0.042279   \n",
       "\n",
       "                           count_order  \n",
       "l_returnflag l_linestatus               \n",
       "A            F                     0.0  \n",
       "N            F                     0.0  \n",
       "             O                     0.0  \n",
       "R            F                     0.0  "
      ]
     },
     "execution_count": 56,
     "metadata": {},
     "output_type": "execute_result"
    }
   ],
   "source": [
    "sample_based_error = calculate_error(sample_based_result, exact_result)\n",
    "sample_based_error"
   ]
  },
  {
   "cell_type": "code",
   "execution_count": 57,
   "metadata": {},
   "outputs": [],
   "source": [
    "ERROR[0] = (sample_based_error.mean().mean(), sample_based_error.mean().std())"
   ]
  },
  {
   "cell_type": "code",
   "execution_count": 58,
   "metadata": {},
   "outputs": [
    {
     "data": {
      "text/plain": [
       "(1.651342309290882, 0.8695094417792658)"
      ]
     },
     "execution_count": 58,
     "metadata": {},
     "output_type": "execute_result"
    }
   ],
   "source": [
    "ERROR[0]"
   ]
  },
  {
   "cell_type": "markdown",
   "metadata": {},
   "source": [
    "# 2. 2D-KDE"
   ]
  },
  {
   "cell_type": "markdown",
   "metadata": {},
   "source": [
    "## 2.0. Cleaning and Normalization"
   ]
  },
  {
   "cell_type": "code",
   "execution_count": 41,
   "metadata": {},
   "outputs": [],
   "source": [
    "lineitem_clean = lineitem.withColumn('l_shipdate', f.to_date('l_shipdate', 'yyyy-MM-dd'))\n",
    "lineitem_schema = dict(zip(lineitem_clean.schema.names, range(len(lineitem_clean.schema.names))))\n",
    "\n",
    "for col_name in lineitem.schema.names[:8]:\n",
    "    lineitem_clean = lineitem_clean.withColumn(col_name, col(col_name).cast('float'))"
   ]
  },
  {
   "cell_type": "code",
   "execution_count": 42,
   "metadata": {
    "scrolled": false
   },
   "outputs": [],
   "source": [
    "# transform = lambda x, avg, stddev: (x - avg)/stddev\n",
    "# i_transform = lambda x, avg, stddev: x * stddev + avg\n",
    "transform, i_transform = {}, {}\n",
    "normalize = {}\n",
    "\n",
    "START_DATE = lineitem_clean.select(f.min('l_shipdate')).first()[0]\n",
    "END_DATE = lineitem_clean.select(f.max('l_shipdate')).first()[0]\n",
    "normalize['date'] = (START_DATE, END_DATE)\n",
    "def lambda_normalize_date(x):\n",
    "    transformed_date = -1 + 2 * (x - normalize['date'][0]).days / (normalize['date'][1] - normalize['date'][0]).days\n",
    "    if transformed_date < -1: return -1\n",
    "    elif transformed_date > 1: return 1\n",
    "    else: return transformed_date\n",
    "transform['date'] = lambda_normalize_date\n",
    "\n",
    "MIN_QUANTITY = lineitem_clean.select(f.min('l_quantity')).first()[0]\n",
    "MAX_QUANTITY = lineitem_clean.select(f.max('l_quantity')).first()[0]\n",
    "normalize['quantity'] = (MIN_QUANTITY, MAX_QUANTITY)\n",
    "transform['quantity'] = lambda x: -1 + 2 * (x - normalize['quantity'][0])/(normalize['quantity'][1] - normalize['quantity'][0])\n",
    "i_transform['quantity'] = lambda x: 0.5 * (x + 1) * (normalize['quantity'][1] - normalize['quantity'][0]) + normalize['quantity'][0]\n",
    "\n",
    "avg = lineitem_clean.select(f.avg('l_extendedprice')).first()[0]\n",
    "stddev = lineitem_clean.select(f.stddev('l_extendedprice')).first()[0]\n",
    "normalize['price'] = (avg, stddev)\n",
    "transform['price'] = lambda x: (x - normalize['price'][0])/normalize['price'][1]\n",
    "i_transform['price'] = lambda x: x * normalize['price'][1] + normalize['price'][0]\n",
    "\n",
    "avg = lineitem_clean.select(f.avg('l_discount')).first()[0]\n",
    "stddev = lineitem_clean.select(f.stddev('l_discount')).first()[0]\n",
    "normalize['disc'] = (avg, stddev)\n",
    "transform['disc'] = lambda x: (x - normalize['disc'][0])/normalize['disc'][1]\n",
    "i_transform['disc'] = lambda x: x * normalize['disc'][1] + normalize['disc'][0]"
   ]
  },
  {
   "cell_type": "code",
   "execution_count": 43,
   "metadata": {},
   "outputs": [
    {
     "data": {
      "text/plain": [
       "3.174031328373099"
      ]
     },
     "execution_count": 43,
     "metadata": {},
     "output_type": "execute_result"
    }
   ],
   "source": [
    "transform['price'](lineitem_clean.select(f.max('l_extendedprice')).first()[0])\n",
    "transform['price'](lineitem_clean.select(f.max(f.col('l_extendedprice') * (1 - f.col('l_discount')))).first()[0])\n",
    "transform['price'](lineitem_clean.select(f.max(f.col('l_extendedprice') * (1 - f.col('l_discount')) * (1 + f.col('l_tax')))).first()[0])"
   ]
  },
  {
   "cell_type": "code",
   "execution_count": 44,
   "metadata": {},
   "outputs": [
    {
     "data": {
      "text/plain": [
       "-1.6064388291501948"
      ]
     },
     "execution_count": 44,
     "metadata": {},
     "output_type": "execute_result"
    }
   ],
   "source": [
    "transform['price'](lineitem_clean.select(f.min('l_extendedprice')).first()[0])\n",
    "transform['price'](lineitem_clean.select(f.min(f.col('l_extendedprice') * (1 - f.col('l_discount')))).first()[0])\n",
    "transform['price'](lineitem_clean.select(f.min(f.col('l_extendedprice') * (1 - f.col('l_discount')) * (1 + f.col('l_tax')))).first()[0])"
   ]
  },
  {
   "cell_type": "code",
   "execution_count": 45,
   "metadata": {},
   "outputs": [
    {
     "data": {
      "text/plain": [
       "1.0"
      ]
     },
     "execution_count": 45,
     "metadata": {},
     "output_type": "execute_result"
    }
   ],
   "source": [
    "transform['date'](lineitem_clean.select(f.max('l_shipdate')).first()[0])"
   ]
  },
  {
   "cell_type": "markdown",
   "metadata": {},
   "source": [
    "## 2.1. KDE Construction"
   ]
  },
  {
   "cell_type": "code",
   "execution_count": 46,
   "metadata": {},
   "outputs": [],
   "source": [
    "def compute_kdes(s_values):\n",
    "    '''\n",
    "    Compute the KDE given the block that is already grouped by key \n",
    "    s_values[0]: stratum_str\n",
    "    s_values[1]: iterable block of rows that is identified by this stratum_str\n",
    "    '''\n",
    "    stratum_str, iterable_rows = s_values[0], s_values[1]\n",
    "    \n",
    "    kdes_bank = dict()\n",
    "    \n",
    "    # Training Data\n",
    "    X_shipdate = []\n",
    "    X_quantity = []\n",
    "    X_price = []\n",
    "    X_disc = []\n",
    "    X_price_disc = []\n",
    "    X_price_disc_tax = []\n",
    "    \n",
    "    # Fill in the training data\n",
    "    for row in iterable_rows:\n",
    "        X_shipdate.append(transform['date'](row['l_shipdate']))\n",
    "#         X_quantity.append(transform['quantity'](row['l_quantity']))\n",
    "#         X_price.append(transform['price'](row['l_extendedprice']))\n",
    "#         X_disc.append(transform['disc'](row['l_discount']))\n",
    "#         X_price_disc.append(transform['price'](row['l_extendedprice'] * (1 - row['l_discount'])))\n",
    "#         X_price_disc_tax.append(transform['price'](row['l_extendedprice'] * (1 - row['l_discount']) * (1 + row['l_tax'])))\n",
    "\n",
    "        X_quantity.append(transform['quantity'](row['l_quantity']))\n",
    "        X_price.append(transform['price'](row['l_extendedprice']))\n",
    "        X_disc.append(transform['disc'](row['l_discount']))\n",
    "        X_price_disc.append(transform['price'](row['l_extendedprice'] * (1 - row['l_discount'])))\n",
    "        X_price_disc_tax.append(transform['price'](row['l_extendedprice'] * (1 - row['l_discount']) * (1 + row['l_tax'])))\n",
    "        \n",
    "    \n",
    "    # Store the trained model into the KDE bank\n",
    "    kdes_bank['n'] = len(iterable_rows)\n",
    "    kdes_bank['quantity'] = gaussian_kde( [X_shipdate, X_quantity], bw_method='scott')\n",
    "    kdes_bank['price'] = gaussian_kde( [X_shipdate, X_price], bw_method='scott')\n",
    "    kdes_bank['disc'] = gaussian_kde( [X_shipdate, X_disc], bw_method='scott')\n",
    "    kdes_bank['disc_price'] = gaussian_kde( [X_shipdate, X_price_disc], bw_method='scott')\n",
    "    kdes_bank['charge'] = gaussian_kde( [X_shipdate, X_price_disc_tax], bw_method='scott')\n",
    "    \n",
    "    stra_list = stratum_str.split(\"_\")\n",
    "    return stra_list + [stratum_str, kdes_bank]"
   ]
  },
  {
   "cell_type": "code",
   "execution_count": 47,
   "metadata": {},
   "outputs": [],
   "source": [
    "def kde_based_method_construction(lineitem_clean):\n",
    "    strat_kde = lineitem_clean.rdd\\\n",
    "        .map(lambda row: (\"_\".join([row['l_returnflag'], row['l_linestatus']]), row)).groupByKey()\\\n",
    "        .map(lambda str_rows: compute_kdes(str_rows) )\n",
    "    # (RDD) strat_kde: flag, status, stratum_str, kdes_bank\n",
    "    \n",
    "    hashMap_kde = {stratum_str: kde for stratum_str, kde in strat_kde.map(lambda row: (row[-2], row[-1])).collect()}\n",
    "    # hashMap_kde: stratum_string -> Actual Kernel Density Estimation Models that corresponds to this stratum\n",
    "    # The last two items are: stratum_str(-2), kdes_bank(-1)\n",
    "    \n",
    "    strata_catalogue = strat_kde.map(lambda row: row[:3]).toDF([\"l_returnflag\", \"l_linestatus\", \"stratum_str\"])\n",
    "    # (DF) strata_catalogue: flag, status, date, stratum_str\n",
    "    return strata_catalogue, hashMap_kde"
   ]
  },
  {
   "cell_type": "markdown",
   "metadata": {},
   "source": [
    "### Construction time"
   ]
  },
  {
   "cell_type": "code",
   "execution_count": 49,
   "metadata": {
    "scrolled": false
   },
   "outputs": [],
   "source": [
    "start = timeit.default_timer()\n",
    "strata_catalogue, hashMap_kde = kde_based_method_construction(lineitem_clean)\n",
    "strata_catalogue = strata_catalogue.cache(); strata_catalogue.show()\n",
    "stop = timeit.default_timer()\n",
    "CONSTRUCTION_TIME[1] = stop - start\n",
    "print('Construction time is', stop - start)"
   ]
  },
  {
   "cell_type": "markdown",
   "metadata": {},
   "source": [
    "### Space"
   ]
  },
  {
   "cell_type": "code",
   "execution_count": null,
   "metadata": {},
   "outputs": [],
   "source": [
    "SPACE[1] = calculate_size_of(strata_catalogue.toPandas()) + calculate_size_of(hashMap_kde)"
   ]
  },
  {
   "cell_type": "markdown",
   "metadata": {},
   "source": [
    "#### Uptil now the construction phas is completed. To be stored are two main objects (hashMap_kde and strata_catalouge) and normalization paramters. \n",
    "All these is done in the big database in Spark.\n",
    "\n",
    "---\n",
    "\n",
    "#### As below is to compute the results with KDE locally with Pandas DF and KDE of sk-learn"
   ]
  },
  {
   "cell_type": "code",
   "execution_count": 34,
   "metadata": {},
   "outputs": [],
   "source": [
    "def kde_based_cal_result(row, left_date, right_date):\n",
    "    '''\n",
    "    Compute the result with the KDE models\n",
    "    \n",
    "    row: a row in RDD\n",
    "    '''\n",
    "    sum_qty, sum_base_price, sum_disc_price, sum_charge, avg_qty, avg_price, avg_disc, count_order = 0, 0, 0, 0, 0, 0, 0, 0\n",
    "    x_left, x_right = transform['date'](left_date), transform['date'](right_date)\n",
    "    kde_bank = hashMap_kde[row['stratum_str']]\n",
    "    \n",
    "    i2 = kde_bank['quantity'].integrate_box([x_left, -np.inf], [x_right, np.inf])\n",
    "    count_order = kde_bank['n'] * i2\n",
    "    \n",
    "    i1 = integrate.dblquad(lambda x, y: i_transform['quantity'](y) * kde_bank['quantity'].evaluate([x, y]), -np.inf, np.inf, x_left, x_right)\n",
    "    avg_qty = i1[0] / i2\n",
    "    sum_qty = avg_qty * count_order\n",
    "    \n",
    "    i1 = integrate.dblquad(lambda x, y: i_transform['price'](y) * kde_bank['price'].evaluate([x, y]),  -np.inf, np.inf, x_left, x_right)\n",
    "#     i2 = kde_bank['price'].integrate_box([x_left, -2], [x_right, 3])\n",
    "    avg_price = i1[0] / i2\n",
    "    sum_base_price = avg_price * count_order\n",
    "    \n",
    "    i1 = integrate.dblquad(lambda x, y: i_transform['disc'](y) * kde_bank['disc'].evaluate([x, y]),  -np.inf, np.inf, x_left, x_right)\n",
    "#     i2 = kde_bank['disc'].integrate_box([x_left, -2], [x_right, 2])\n",
    "    avg_disc = i1[0] / i2\n",
    "    \n",
    "    i1 = integrate.dblquad(lambda x, y: i_transform['price'](y) * kde_bank['disc_price'].evaluate([x, y]), -np.inf, np.inf, x_left, x_right)\n",
    "#     i2 = kde_bank['disc_price'].integrate_box([x_left, -2], [x_right, 3])\n",
    "    sum_disc_price = (i1[0] / i2) * count_order\n",
    "                      \n",
    "    i1 = integrate.dblquad(lambda x, y: i_transform['price'](y) * kde_bank['charge'].evaluate([x, y]),  -np.inf, np.inf, x_left, x_right)\n",
    "#     i2 = kde_bank['charge'].integrate_box([x_left, -2], [x_right, 3.2])\n",
    "    sum_charge = (i1[0] / i2) * count_order\n",
    "                           \n",
    "    return (row['l_returnflag'], row['l_linestatus'], sum_qty, sum_base_price, sum_disc_price, sum_charge, avg_qty, avg_price, avg_disc, count_order)\n"
   ]
  },
  {
   "cell_type": "code",
   "execution_count": 35,
   "metadata": {},
   "outputs": [],
   "source": [
    "def kde_based_method_testing(strata_catalogue, hashMap_kde, left_date, right_date):\n",
    "    '''\n",
    "    Args:\n",
    "        strata_catalogue: pre-saved DF with schema: flag, status, stratum_str\n",
    "        hashMap_kde: stratum_string -> Actual Kernel Density Estimation Models that corresponds to this stratum\n",
    "        left_date, right_date: datetime objects\n",
    "    Return:\n",
    "        Q1_kde_approx: A dataframe of pySpark\n",
    "    '''\n",
    "    \n",
    "    Q1_kde_approx = strata_catalogue.rdd.map(lambda x: kde_based_cal_result(x, left_date, right_date))\\\n",
    "    .toDF(['l_returnflag','l_linestatus','sum_qty','sum_base_price', 'sum_disc_price', 'sum_charge', 'avg_qty', 'avg_price', 'avg_disc', 'count_order'])\\\n",
    "    .sort(\"l_returnflag\", \"l_linestatus\")\n",
    "    \n",
    "    return Q1_kde_approx\n"
   ]
  },
  {
   "cell_type": "markdown",
   "metadata": {},
   "source": [
    "### Execution Time"
   ]
  },
  {
   "cell_type": "code",
   "execution_count": 36,
   "metadata": {
    "scrolled": false
   },
   "outputs": [
    {
     "name": "stdout",
     "output_type": "stream",
     "text": [
      "+------------+------------+------------------+--------------------+--------------------+--------------------+------------------+------------------+--------------------+------------------+\n",
      "|l_returnflag|l_linestatus|           sum_qty|      sum_base_price|      sum_disc_price|          sum_charge|           avg_qty|         avg_price|            avg_disc|       count_order|\n",
      "+------------+------------+------------------+--------------------+--------------------+--------------------+------------------+------------------+--------------------+------------------+\n",
      "|           A|           F| 37381.65257125477| 5.629227123995184E7|5.3474329970373556E7| 5.555162464870172E7|25.424586336205056| 38286.36809122182|0.050317933018991325|1470.2954092127209|\n",
      "|           N|           F|1852.0000001886349|    2839903.90039074|  2719994.4082553396|  2822487.7143758987|26.457142859837685| 40570.05571986778|0.047428597724621886| 69.99999999999989|\n",
      "|           N|           O|128911.91098020304|1.9365108083182546E8|1.8404608408079475E8|1.9152106338348275E8| 25.70302731362483|38611.009503208435|0.050239663429812405| 5015.436874701081|\n",
      "|           R|           F| 37292.01104494357| 5.550634999326628E7| 5.273759117868626E7|5.4886409253707655E7|25.464224496136634|37901.580461462174| 0.04986497042335924|1464.4864229264635|\n",
      "+------------+------------+------------------+--------------------+--------------------+--------------------+------------------+------------------+--------------------+------------------+\n",
      "\n",
      "Execution time of 2-D KDE methods is  270.555584664\n"
     ]
    }
   ],
   "source": [
    "start = timeit.default_timer()\n",
    "twod_kde_result = kde_based_method_testing(strata_catalogue, hashMap_kde, LEFT_DATE, RIGHT_DATE).cache()\n",
    "twod_kde_result.show()\n",
    "stop = timeit.default_timer()\n",
    "EXECUTION_TIME[1] = stop - start\n",
    "print('Execution time of 2-D KDE methods is ', stop - start)"
   ]
  },
  {
   "cell_type": "markdown",
   "metadata": {},
   "source": [
    "### Error"
   ]
  },
  {
   "cell_type": "code",
   "execution_count": 37,
   "metadata": {},
   "outputs": [
    {
     "data": {
      "text/html": [
       "<div>\n",
       "<style scoped>\n",
       "    .dataframe tbody tr th:only-of-type {\n",
       "        vertical-align: middle;\n",
       "    }\n",
       "\n",
       "    .dataframe tbody tr th {\n",
       "        vertical-align: top;\n",
       "    }\n",
       "\n",
       "    .dataframe thead th {\n",
       "        text-align: right;\n",
       "    }\n",
       "</style>\n",
       "<table border=\"1\" class=\"dataframe\">\n",
       "  <thead>\n",
       "    <tr style=\"text-align: right;\">\n",
       "      <th></th>\n",
       "      <th></th>\n",
       "      <th>sum_qty</th>\n",
       "      <th>sum_base_price</th>\n",
       "      <th>sum_disc_price</th>\n",
       "      <th>sum_charge</th>\n",
       "      <th>avg_qty</th>\n",
       "      <th>avg_price</th>\n",
       "      <th>avg_disc</th>\n",
       "      <th>count_order</th>\n",
       "    </tr>\n",
       "    <tr>\n",
       "      <th>l_returnflag</th>\n",
       "      <th>l_linestatus</th>\n",
       "      <th></th>\n",
       "      <th></th>\n",
       "      <th></th>\n",
       "      <th></th>\n",
       "      <th></th>\n",
       "      <th></th>\n",
       "      <th></th>\n",
       "      <th></th>\n",
       "    </tr>\n",
       "  </thead>\n",
       "  <tbody>\n",
       "    <tr>\n",
       "      <th>A</th>\n",
       "      <th>F</th>\n",
       "      <td>1.464157e-01</td>\n",
       "      <td>1.561221e-01</td>\n",
       "      <td>1.498335e-01</td>\n",
       "      <td>1.791442e-01</td>\n",
       "      <td>1.461588e-01</td>\n",
       "      <td>1.364800e-01</td>\n",
       "      <td>0.035652</td>\n",
       "      <td>2.930020e-01</td>\n",
       "    </tr>\n",
       "    <tr>\n",
       "      <th rowspan=\"2\" valign=\"top\">N</th>\n",
       "      <th>F</th>\n",
       "      <td>1.018547e-08</td>\n",
       "      <td>3.658835e-07</td>\n",
       "      <td>3.660059e-07</td>\n",
       "      <td>3.347720e-07</td>\n",
       "      <td>5.297712e-07</td>\n",
       "      <td>3.669400e-07</td>\n",
       "      <td>0.000848</td>\n",
       "      <td>1.624098e-13</td>\n",
       "    </tr>\n",
       "    <tr>\n",
       "      <th>O</th>\n",
       "      <td>1.265348e+00</td>\n",
       "      <td>1.241212e+00</td>\n",
       "      <td>1.239617e+00</td>\n",
       "      <td>1.245175e+00</td>\n",
       "      <td>2.533929e-02</td>\n",
       "      <td>4.978894e-02</td>\n",
       "      <td>0.048417</td>\n",
       "      <td>1.290359e+00</td>\n",
       "    </tr>\n",
       "    <tr>\n",
       "      <th>R</th>\n",
       "      <th>F</th>\n",
       "      <td>4.351594e-01</td>\n",
       "      <td>4.616723e-01</td>\n",
       "      <td>4.513703e-01</td>\n",
       "      <td>4.457806e-01</td>\n",
       "      <td>3.322562e-01</td>\n",
       "      <td>3.587973e-01</td>\n",
       "      <td>0.080212</td>\n",
       "      <td>1.032454e-01</td>\n",
       "    </tr>\n",
       "  </tbody>\n",
       "</table>\n",
       "</div>"
      ],
      "text/plain": [
       "                                sum_qty  sum_base_price  sum_disc_price  \\\n",
       "l_returnflag l_linestatus                                                 \n",
       "A            F             1.464157e-01    1.561221e-01    1.498335e-01   \n",
       "N            F             1.018547e-08    3.658835e-07    3.660059e-07   \n",
       "             O             1.265348e+00    1.241212e+00    1.239617e+00   \n",
       "R            F             4.351594e-01    4.616723e-01    4.513703e-01   \n",
       "\n",
       "                             sum_charge       avg_qty     avg_price  avg_disc  \\\n",
       "l_returnflag l_linestatus                                                       \n",
       "A            F             1.791442e-01  1.461588e-01  1.364800e-01  0.035652   \n",
       "N            F             3.347720e-07  5.297712e-07  3.669400e-07  0.000848   \n",
       "             O             1.245175e+00  2.533929e-02  4.978894e-02  0.048417   \n",
       "R            F             4.457806e-01  3.322562e-01  3.587973e-01  0.080212   \n",
       "\n",
       "                            count_order  \n",
       "l_returnflag l_linestatus                \n",
       "A            F             2.930020e-01  \n",
       "N            F             1.624098e-13  \n",
       "             O             1.290359e+00  \n",
       "R            F             1.032454e-01  "
      ]
     },
     "execution_count": 37,
     "metadata": {},
     "output_type": "execute_result"
    }
   ],
   "source": [
    "twod_kde_error = calculate_error(twod_kde_result, exact_result)\n",
    "twod_kde_error"
   ]
  },
  {
   "cell_type": "code",
   "execution_count": 39,
   "metadata": {},
   "outputs": [
    {
     "data": {
      "text/plain": [
       "(0.3224190054102141, 0.18587604180638273)"
      ]
     },
     "execution_count": 39,
     "metadata": {},
     "output_type": "execute_result"
    }
   ],
   "source": [
    "ERROR[1] = (twod_kde_error.mean().mean(), twod_kde_error.mean().std())\n",
    "ERROR[1] "
   ]
  },
  {
   "cell_type": "markdown",
   "metadata": {},
   "source": [
    "---\n",
    "# 3. Regression-based KDE"
   ]
  },
  {
   "cell_type": "markdown",
   "metadata": {},
   "source": [
    "## Construction"
   ]
  },
  {
   "cell_type": "code",
   "execution_count": 19,
   "metadata": {},
   "outputs": [],
   "source": [
    "def compute_regressions(s_values, bw='scott'):\n",
    "    '''\n",
    "    Compute the KDE given the block that is already grouped by key \n",
    "    s_values[0]: stratum_str\n",
    "    s_values[1]: iterable block of rows that is identified by this stratum_str\n",
    "    '''\n",
    "    stratum_str, iterable_rows = s_values[0], s_values[1]\n",
    "    \n",
    "    regression_bank = dict()\n",
    "    \n",
    "    # Training Data\n",
    "    X_shipdate = []\n",
    "    X_quantity = []\n",
    "    X_price = []\n",
    "    X_disc = []\n",
    "    X_price_disc = []\n",
    "    X_price_disc_tax = []\n",
    "    count_order = 0\n",
    "    \n",
    "    # Fill in the training data\n",
    "    for row in iterable_rows:\n",
    "        X_shipdate.append(transform['date'](row['l_shipdate']))\n",
    "        X_quantity.append(row['avg_qty'])\n",
    "        X_price.append(row['avg_base_price'])\n",
    "        X_disc.append(row['avg_disc'])\n",
    "        X_price_disc.append(row['avg_disc_price'])\n",
    "        X_price_disc_tax.append(row['avg_charge'])\n",
    "        count_order += row['count_order']\n",
    "    \n",
    "    # Store the trained model into the KDE bank\n",
    "    regression_bank['n'] = count_order\n",
    "    regression_bank['date'] = gaussian_kde(X_shipdate, bw_method=bw)\n",
    "    regression_bank['quantity'] = KNeighborsRegressor(n_neighbors=1).fit(np.array(X_shipdate).reshape(-1, 1), np.array(X_quantity).reshape(-1, 1))\n",
    "    regression_bank['price'] = KNeighborsRegressor(n_neighbors=1).fit(np.array(X_shipdate).reshape(-1, 1), np.array(X_price).reshape(-1, 1))\n",
    "    regression_bank['disc'] = KNeighborsRegressor(n_neighbors=1).fit(np.array(X_shipdate).reshape(-1, 1), np.array(X_disc).reshape(-1, 1))\n",
    "    regression_bank['disc_price'] = KNeighborsRegressor(n_neighbors=1).fit(np.array(X_shipdate).reshape(-1, 1), np.array(X_price_disc).reshape(-1, 1))\n",
    "    regression_bank['charge'] = KNeighborsRegressor(n_neighbors=1).fit(np.array(X_shipdate).reshape(-1, 1), np.array(X_price_disc_tax).reshape(-1, 1))\n",
    "    \n",
    "    \n",
    "    stra_list = stratum_str.split(\"_\")\n",
    "    return stra_list + [stratum_str, regression_bank]"
   ]
  },
  {
   "cell_type": "code",
   "execution_count": 20,
   "metadata": {},
   "outputs": [],
   "source": [
    "def regression_based_method_construction(lineitem_clean):\n",
    "    strat_kde = lineitem_clean.groupby('l_returnflag', 'l_linestatus', 'l_shipdate')\\\n",
    "            .agg(f.avg('l_quantity').alias('avg_qty'), f.avg('l_extendedprice').alias('avg_base_price'), \\\n",
    "                 f.avg(col('l_extendedprice') * (1 - col('l_discount'))).alias('avg_disc_price'),\\\n",
    "                 f.avg(col('l_extendedprice') * (1 - col('l_discount')) * (1 + col('l_tax'))).alias('avg_charge'),\\\n",
    "                 f.avg('l_discount').alias('avg_disc'), f.count('*').alias('count_order') ).rdd\\\n",
    "        .map(lambda row: (\"_\".join([row['l_returnflag'], row['l_linestatus']]), row)).groupByKey()\\\n",
    "        .map(compute_regressions)\n",
    "    # (RDD) strat_kde: flag, status, stratum_str, kdes_bank\n",
    "    \n",
    "    hashMap_kde = {stratum_str: kde for stratum_str, kde in strat_kde.map(lambda row: (row[-2], row[-1])).collect()}\n",
    "    # hashMap_kde: stratum_string -> Actual Kernel Density Estimation Models that corresponds to this stratum\n",
    "    # The last two items are: stratum_str(-2), kdes_bank(-1)\n",
    "    \n",
    "    strata_catalogue = strat_kde.map(lambda row: row[:3]).toDF([\"l_returnflag\", \"l_linestatus\", \"stratum_str\"])\n",
    "    # (DF) strata_catalogue: flag, status, date, stratum_str\n",
    "    return strata_catalogue, hashMap_kde"
   ]
  },
  {
   "cell_type": "markdown",
   "metadata": {},
   "source": [
    "### Construction time"
   ]
  },
  {
   "cell_type": "code",
   "execution_count": 21,
   "metadata": {
    "scrolled": false
   },
   "outputs": [
    {
     "name": "stdout",
     "output_type": "stream",
     "text": [
      "+------------+------------+-----------+\n",
      "|l_returnflag|l_linestatus|stratum_str|\n",
      "+------------+------------+-----------+\n",
      "|           R|           F|        R_F|\n",
      "|           N|           F|        N_F|\n",
      "|           N|           O|        N_O|\n",
      "|           A|           F|        A_F|\n",
      "+------------+------------+-----------+\n",
      "\n",
      "Construction time is 11.201938771999977\n"
     ]
    }
   ],
   "source": [
    "start = timeit.default_timer()\n",
    "strata_catalogue, hashMap_reg = regression_based_method_construction(lineitem_clean)\n",
    "strata_catalogue = strata_catalogue.cache(); strata_catalogue.show()\n",
    "stop = timeit.default_timer()\n",
    "CONSTRUCTION_TIME[2] = stop - start\n",
    "print('Construction time is', stop - start)"
   ]
  },
  {
   "cell_type": "markdown",
   "metadata": {},
   "source": [
    "### Space"
   ]
  },
  {
   "cell_type": "code",
   "execution_count": 22,
   "metadata": {},
   "outputs": [
    {
     "name": "stdout",
     "output_type": "stream",
     "text": [
      "The size of the object in MB:  0.0008783340454101562\n",
      "The size of the object in MB:  0.5554733276367188\n"
     ]
    }
   ],
   "source": [
    "SPACE[2] = calculate_size_of(strata_catalogue.toPandas()) + calculate_size_of(hashMap_reg)"
   ]
  },
  {
   "cell_type": "markdown",
   "metadata": {},
   "source": [
    "## Testing"
   ]
  },
  {
   "cell_type": "code",
   "execution_count": 23,
   "metadata": {},
   "outputs": [],
   "source": [
    "def regression_based_cal_result(row, left_date, right_date):\n",
    "    '''\n",
    "    Compute the result with the KDE models\n",
    "    \n",
    "    row: a row in RDD\n",
    "    '''\n",
    "    sum_qty, sum_base_price, sum_disc_price, sum_charge, avg_qty, avg_price, avg_disc, count_order = 0, 0, 0, 0, 0, 0, 0, 0\n",
    "    \n",
    "    regression_bank = hashMap_reg[row['stratum_str']]\n",
    "    \n",
    "    x_left, x_right = transform['date'](left_date), transform['date'](right_date)\n",
    "    i1 = integrate.quad(lambda x: regression_bank['quantity'].predict([[x]]) * regression_bank['date'].evaluate(x), x_left, x_right)\n",
    "    i2 = integrate.quad(lambda x: regression_bank['date'].evaluate(x), x_left, x_right)\n",
    "    avg_qty = i1[0] / i2[0]\n",
    "    count_order = regression_bank['n'] * i2[0]\n",
    "    sum_qty = avg_qty * count_order\n",
    "    \n",
    "    i1 = integrate.quad(lambda x: regression_bank['price'].predict([[x]]) * regression_bank['date'].evaluate(x), x_left, x_right)\n",
    "    avg_price = i1[0] / i2[0]\n",
    "    sum_base_price = avg_price * count_order\n",
    "    \n",
    "    i1 = integrate.quad(lambda x: regression_bank['disc'].predict([[x]]) * regression_bank['date'].evaluate(x), x_left, x_right)\n",
    "    avg_disc = i1[0] / i2[0]\n",
    "    \n",
    "    i1 = integrate.quad(lambda x: regression_bank['disc_price'].predict([[x]]) * regression_bank['date'].evaluate(x), x_left, x_right)\n",
    "    sum_disc_price = (i1[0] / i2[0]) * count_order\n",
    "                      \n",
    "    i1 = integrate.quad(lambda x: regression_bank['charge'].predict([[x]]) * regression_bank['date'].evaluate(x), x_left, x_right)\n",
    "    sum_charge = (i1[0] / i2[0]) * count_order\n",
    "                           \n",
    "    return (row['l_returnflag'], row['l_linestatus'], sum_qty, sum_base_price, sum_disc_price, sum_charge, avg_qty, avg_price, avg_disc, count_order)\n"
   ]
  },
  {
   "cell_type": "code",
   "execution_count": 24,
   "metadata": {},
   "outputs": [],
   "source": [
    "def regression_based_method_testing(strata_catalogue, left_date, right_date):\n",
    "    '''\n",
    "    Args:\n",
    "        strata_catalogue: pre-saved DF with schema: flag, status, stratum_str\n",
    "        hashMap_kde: stratum_string -> Actual Kernel Density Estimation Models that corresponds to this stratum\n",
    "        left_date, right_date: datetime objects\n",
    "    Return:\n",
    "        Q1_kde_approx: A dataframe of pySpark\n",
    "    '''\n",
    "    \n",
    "    Q1_reg_approx = strata_catalogue.rdd.map(lambda x: regression_based_cal_result(x, left_date, right_date))\\\n",
    "    .toDF(['l_returnflag','l_linestatus','sum_qty','sum_base_price', 'sum_disc_price', 'sum_charge', 'avg_qty', 'avg_price', 'avg_disc', 'count_order'])\\\n",
    "    .sort(\"l_returnflag\", \"l_linestatus\")\n",
    "    \n",
    "    return Q1_reg_approx"
   ]
  },
  {
   "cell_type": "markdown",
   "metadata": {},
   "source": [
    "### Execution time"
   ]
  },
  {
   "cell_type": "code",
   "execution_count": 25,
   "metadata": {
    "scrolled": false
   },
   "outputs": [
    {
     "name": "stdout",
     "output_type": "stream",
     "text": [
      "+------------+------------+-------------------+--------------------+--------------------+--------------------+------------------+------------------+--------------------+------------------+\n",
      "|l_returnflag|l_linestatus|            sum_qty|      sum_base_price|      sum_disc_price|          sum_charge|           avg_qty|         avg_price|            avg_disc|       count_order|\n",
      "+------------+------------+-------------------+--------------------+--------------------+--------------------+------------------+------------------+--------------------+------------------+\n",
      "|           A|           F|2.210539933529191E7|3.299575297030004...|3.135901388918444...|3.261940956056857E10|25.619207777132807| 38240.65959122837| 0.04981617246229237| 862844.7658331867|\n",
      "|           N|           F|  992242.8236287098|1.4875430567616413E9|1.4131345901494753E9|1.4694169312326741E9| 25.53772645361378|38285.454696083834| 0.04988557316154054|           38854.0|\n",
      "|           N|           O| 7.44514116487584E7|1.116911064168143...|1.060841720093709...|1.103123875583613...|25.484781323798888|38231.960412978064|0.050044818232767976|2921406.7290909872|\n",
      "|           R|           F|2.194839436882849E7|3.296953822483152E10|3.132744595608255...|3.256222433564182E10|25.430761195008678| 38200.53709697184| 0.05042840287943654| 863064.7820772398|\n",
      "+------------+------------+-------------------+--------------------+--------------------+--------------------+------------------+------------------+--------------------+------------------+\n",
      "\n",
      "Execution time: 21.299063466000007\n"
     ]
    }
   ],
   "source": [
    "start = timeit.default_timer()\n",
    "Q1_reg_approx = regression_based_method_testing(strata_catalogue, LEFT_DATE, RIGHT_DATE).cache()\n",
    "Q1_reg_approx.show()\n",
    "stop = timeit.default_timer()\n",
    "EXECUTION_TIME[2] = stop - start\n",
    "print('Execution time:', stop - start)"
   ]
  },
  {
   "cell_type": "markdown",
   "metadata": {},
   "source": [
    "### Error"
   ]
  },
  {
   "cell_type": "code",
   "execution_count": 26,
   "metadata": {},
   "outputs": [],
   "source": [
    "regression_based_error = calculate_error(Q1_reg_approx, exact_result)"
   ]
  },
  {
   "cell_type": "code",
   "execution_count": 27,
   "metadata": {},
   "outputs": [],
   "source": [
    "ERROR[2] = (regression_based_error.mean().mean(), regression_based_error.mean().std())"
   ]
  },
  {
   "cell_type": "markdown",
   "metadata": {},
   "source": [
    "# 4. Weighted-KDE"
   ]
  },
  {
   "cell_type": "code",
   "execution_count": 27,
   "metadata": {},
   "outputs": [],
   "source": [
    "lineitem_clean = lineitem.withColumn('l_shipdate', f.to_date('l_shipdate', 'yyyy-MM-dd'))\n",
    "lineitem_schema = dict(zip(lineitem_clean.schema.names, range(len(lineitem_clean.schema.names))))\n",
    "\n",
    "for col_name in lineitem.schema.names[:8]:\n",
    "    lineitem_clean = lineitem_clean.withColumn(col_name, col(col_name).cast('float'))"
   ]
  },
  {
   "cell_type": "code",
   "execution_count": 28,
   "metadata": {},
   "outputs": [],
   "source": [
    "transform, i_transform = {}, {}\n",
    "normalize = {}\n",
    "\n",
    "START_DATE = lineitem_clean.select(f.min('l_shipdate')).first()[0]\n",
    "END_DATE = lineitem_clean.select(f.max('l_shipdate')).first()[0]\n",
    "normalize['date'] = (START_DATE, END_DATE)\n",
    "def lambda_normalize_date(x):\n",
    "    transformed_date = -1 + 2 * (x - normalize['date'][0]).days / (normalize['date'][1] - normalize['date'][0]).days\n",
    "    if transformed_date < -1: return -1\n",
    "    elif transformed_date > 1: return 1\n",
    "    else: return transformed_date\n",
    "transform['date'] = lambda_normalize_date"
   ]
  },
  {
   "cell_type": "code",
   "execution_count": 29,
   "metadata": {},
   "outputs": [],
   "source": [
    "def compute_kdes(s_values, bw='scott'):\n",
    "    '''\n",
    "    Compute the KDE given the block that is already grouped by key \n",
    "    s_values[0]: stratum_str\n",
    "    s_values[1]: iterable block of rows that is identified by this stratum_str\n",
    "    '''\n",
    "    stratum_str, iterable_rows = s_values[0], s_values[1]\n",
    "    kdes_bank = dict()\n",
    "    \n",
    "    # Training Data\n",
    "    X_shipdate = []\n",
    "    X_quantity = []\n",
    "    X_price = []\n",
    "    X_disc = []\n",
    "    X_price_disc = []\n",
    "    X_price_disc_tax = []\n",
    "    X_count = []\n",
    "    \n",
    "    # Fill in the training data\n",
    "    for row in iterable_rows:\n",
    "        X_shipdate.append(transform['date'](row['l_shipdate']))\n",
    "        X_quantity.append(row['sum_qty'])\n",
    "        X_price.append(row['sum_base_price'])\n",
    "        X_disc.append(row['sum_disc'])\n",
    "        X_price_disc.append(row['sum_disc_price'])\n",
    "        X_price_disc_tax.append(row['sum_charge'])\n",
    "        X_count.append(row['count_order'])\n",
    "        \n",
    "    # Store the trained model into the KDE bank\n",
    "    kdes_bank['quantity'] = gaussian_kde(X_shipdate, bw_method=bw, weights = X_quantity)\n",
    "    kdes_bank['quantity_sum'] = np.sum(X_quantity)\n",
    "    kdes_bank['price'] = gaussian_kde(X_shipdate, bw_method=bw, weights = X_price)\n",
    "    kdes_bank['price_sum'] = np.sum(X_price)\n",
    "    kdes_bank['disc'] = gaussian_kde(X_shipdate, bw_method=bw, weights = X_disc)\n",
    "    kdes_bank['disc_sum'] = np.sum(X_disc)\n",
    "    kdes_bank['disc_price'] = gaussian_kde(X_shipdate, bw_method=bw, weights = X_price_disc)\n",
    "    kdes_bank['disc_price_sum'] = np.sum(X_price_disc)\n",
    "    kdes_bank['charge'] = gaussian_kde(X_shipdate, bw_method=bw, weights = X_price_disc_tax)\n",
    "    kdes_bank['charge_sum'] = np.sum(X_price_disc_tax)\n",
    "    kdes_bank['count'] = gaussian_kde(X_shipdate, bw_method=bw, weights = X_count)\n",
    "    kdes_bank['count_sum'] = np.sum(X_count)\n",
    "    \n",
    "    stra_list = stratum_str.split(\"_\")\n",
    "    return stra_list + [stratum_str, kdes_bank]"
   ]
  },
  {
   "cell_type": "code",
   "execution_count": 30,
   "metadata": {},
   "outputs": [],
   "source": [
    "def kde_based_method_construction(lineitem_clean):\n",
    "    strat_kde = lineitem_clean.groupby('l_returnflag', 'l_linestatus', 'l_shipdate')\\\n",
    "            .agg(f.sum('l_quantity').alias('sum_qty'), f.sum('l_extendedprice').alias('sum_base_price'), \\\n",
    "                 f.sum(col('l_extendedprice') * (1 - col('l_discount'))).alias('sum_disc_price'),\\\n",
    "                 f.sum(col('l_extendedprice') * (1 - col('l_discount')) * (1 + col('l_tax'))).alias('sum_charge'),\\\n",
    "                 f.sum('l_discount').alias('sum_disc'), f.count('*').alias('count_order') ).rdd\\\n",
    "        .map(lambda row: (\"_\".join([row['l_returnflag'], row['l_linestatus']]), row)).groupByKey()\\\n",
    "        .map(compute_kdes)\n",
    "    # (RDD) strat_kde: flag, status, stratum_str, kdes_bank\n",
    "    \n",
    "    hashMap_kde = {stratum_str: kde for stratum_str, kde in strat_kde.map(lambda row: (row[-2], row[-1])).collect()}\n",
    "    # hashMap_kde: stratum_string -> Actual Kernel Density Estimation Models that corresponds to this stratum\n",
    "    # The last two items are: stratum_str(-2), kdes_bank(-1)\n",
    "    \n",
    "    strata_catalogue = strat_kde.map(lambda row: row[:3]).toDF([\"l_returnflag\", \"l_linestatus\", \"stratum_str\"])\n",
    "    # (DF) strata_catalogue: flag, status, date, stratum_str\n",
    "    return strata_catalogue, hashMap_kde"
   ]
  },
  {
   "cell_type": "markdown",
   "metadata": {},
   "source": [
    "### Construction"
   ]
  },
  {
   "cell_type": "code",
   "execution_count": 31,
   "metadata": {
    "scrolled": false
   },
   "outputs": [
    {
     "name": "stdout",
     "output_type": "stream",
     "text": [
      "+------------+------------+-----------+\n",
      "|l_returnflag|l_linestatus|stratum_str|\n",
      "+------------+------------+-----------+\n",
      "|           R|           F|        R_F|\n",
      "|           N|           F|        N_F|\n",
      "|           N|           O|        N_O|\n",
      "|           A|           F|        A_F|\n",
      "+------------+------------+-----------+\n",
      "\n",
      "6.000090865999937\n"
     ]
    }
   ],
   "source": [
    "start = timeit.default_timer()\n",
    "strata_catalogue, hashMap_kde = kde_based_method_construction(lineitem_clean)\n",
    "strata_catalogue = strata_catalogue.cache(); strata_catalogue.show()\n",
    "stop = timeit.default_timer()\n",
    "CONSTRUCTION_TIME[3] = stop - start\n",
    "print(stop - start)"
   ]
  },
  {
   "cell_type": "markdown",
   "metadata": {},
   "source": [
    "### Space"
   ]
  },
  {
   "cell_type": "code",
   "execution_count": 32,
   "metadata": {},
   "outputs": [
    {
     "name": "stdout",
     "output_type": "stream",
     "text": [
      "The size of the object in MB:  0.0008783340454101562\n",
      "The size of the object in MB:  0.3635749816894531\n"
     ]
    }
   ],
   "source": [
    "SPACE[3] = calculate_size_of(strata_catalogue.toPandas()) + calculate_size_of(hashMap_kde)"
   ]
  },
  {
   "cell_type": "code",
   "execution_count": 33,
   "metadata": {},
   "outputs": [
    {
     "data": {
      "text/plain": [
       "[<matplotlib.lines.Line2D at 0x1a1a1aab10>]"
      ]
     },
     "execution_count": 33,
     "metadata": {},
     "output_type": "execute_result"
    },
    {
     "data": {
      "image/png": "[encoded data removed]",
      "text/plain": [
       "<Figure size 432x288 with 1 Axes>"
      ]
     },
     "metadata": {
      "needs_background": "light"
     },
     "output_type": "display_data"
    }
   ],
   "source": [
    "kde = hashMap_kde['N_O']['quantity']\n",
    "kde.set_bandwidth(.1)\n",
    "plt.plot(np.linspace(-1, 1, 10000), kde.evaluate(np.linspace(-1, 1, 10000)))"
   ]
  },
  {
   "cell_type": "markdown",
   "metadata": {},
   "source": [
    "## Testing"
   ]
  },
  {
   "cell_type": "code",
   "execution_count": 34,
   "metadata": {},
   "outputs": [],
   "source": [
    "def kde_based_cal_result(row, l_date, r_date, bw):\n",
    "    '''\n",
    "    Compute the result with the KDE models\n",
    "    \n",
    "    row: a row in RDD\n",
    "    '''\n",
    "    sum_qty, sum_base_price, sum_disc_price, sum_charge, avg_qty, avg_price, avg_disc, count_order = 0, 0, 0, 0, 0, 0, 0, 0\n",
    "    x_left, x_right = transform['date'](l_date), transform['date'](r_date)\n",
    "    kde_bank = hashMap_kde[row['stratum_str']]\n",
    "    \n",
    "    kde_count = kde_bank['count']; kde_count.set_bandwidth(bw)\n",
    "    count_order = kde_bank['count_sum'] * kde_count.integrate_box_1d(x_left, x_right)\n",
    "    \n",
    "    kde_quantity = kde_bank['quantity']; kde_quantity.set_bandwidth(bw)\n",
    "    sum_qty = kde_bank['quantity_sum'] * kde_quantity.integrate_box_1d(x_left, x_right)\n",
    "    avg_qty = sum_qty / count_order\n",
    "    \n",
    "    kde_price = kde_bank['price']; kde_price.set_bandwidth(bw)\n",
    "    sum_base_price = kde_bank['price_sum'] * kde_price.integrate_box_1d(x_left, x_right)\n",
    "    avg_price = sum_base_price / count_order\n",
    "    \n",
    "    kde_disc = kde_bank['disc']; kde_disc.set_bandwidth(bw)\n",
    "    avg_disc = kde_bank['disc_sum'] * kde_disc.integrate_box_1d(x_left, x_right) / count_order\n",
    "    \n",
    "    kde_disc_price = kde_bank['disc_price']; kde_disc_price.set_bandwidth(bw)\n",
    "    sum_disc_price = kde_bank['disc_price_sum'] * kde_disc_price.integrate_box_1d(x_left, x_right)\n",
    "    \n",
    "    kde_charge = kde_bank['charge']; kde_charge.set_bandwidth(bw)\n",
    "    sum_charge = kde_bank['charge_sum'] * kde_charge.integrate_box_1d(x_left, x_right)\n",
    "                           \n",
    "    return (row['l_returnflag'], row['l_linestatus'], float(sum_qty), float(sum_base_price), float(sum_disc_price),\\\n",
    "            float(sum_charge), float(avg_qty), float(avg_price), float(avg_disc), float(count_order))"
   ]
  },
  {
   "cell_type": "code",
   "execution_count": 35,
   "metadata": {},
   "outputs": [],
   "source": [
    "def kde_based_method_testing(strata_catalogue, l_date, r_date, bw):\n",
    "    '''\n",
    "    Args:\n",
    "        strata_catalogue: pre-saved DF with schema: flag, status, stratum_str\n",
    "        hashMap_kde: stratum_string -> Actual Kernel Density Estimation Models that corresponds to this stratum\n",
    "        left_date, right_date: datetime objects\n",
    "    Return:\n",
    "        Q1_kde_approx: A dataframe of pySpark\n",
    "    '''\n",
    "    \n",
    "    Q1_kde_approx = strata_catalogue.rdd.map(lambda x: kde_based_cal_result(x, l_date, r_date, bw))\\\n",
    "    .toDF(['l_returnflag','l_linestatus','sum_qty','sum_base_price', 'sum_disc_price', 'sum_charge', 'avg_qty', 'avg_price', 'avg_disc', 'count_order'])\\\n",
    "    .sort(\"l_returnflag\", \"l_linestatus\")\n",
    "    \n",
    "    return Q1_kde_approx"
   ]
  },
  {
   "cell_type": "markdown",
   "metadata": {},
   "source": [
    "### Execution"
   ]
  },
  {
   "cell_type": "code",
   "execution_count": 36,
   "metadata": {
    "scrolled": false
   },
   "outputs": [
    {
     "name": "stdout",
     "output_type": "stream",
     "text": [
      "+------------+------------+--------------------+--------------------+--------------------+--------------------+------------------+------------------+--------------------+------------------+\n",
      "|l_returnflag|l_linestatus|             sum_qty|      sum_base_price|      sum_disc_price|          sum_charge|           avg_qty|         avg_price|            avg_disc|       count_order|\n",
      "+------------+------------+--------------------+--------------------+--------------------+--------------------+------------------+------------------+--------------------+------------------+\n",
      "|           A|           F|2.2985573547232825E7|3.446974444214384...|3.274872018013493...|3.405865751535168E10| 25.52503570948192| 38277.98579724191|0.049941529002023546| 900510.9261686264|\n",
      "|           N|           F|            991417.0| 1.487504710632202E9|1.4130821665253906E9|1.4696492054312134E9|25.516471920522985|38284.467767339316|0.050093426752791215|           38854.0|\n",
      "|           N|           O| 7.646623083666696E7|1.146839884765004E11|1.089509551416946...|1.133128457116816...|  25.5019616561623|38247.820569979514|0.049999994863955434|2998445.0556253437|\n",
      "|           R|           F| 2.299038746447645E7|3.447889999513287E10|3.275684415246692E10|3.406601871948937...|25.500239502602703| 38242.94866803357| 0.04999481960644665| 901575.3543071593|\n",
      "+------------+------------+--------------------+--------------------+--------------------+--------------------+------------------+------------------+--------------------+------------------+\n",
      "\n",
      "Execution time is 2.339932815999987\n"
     ]
    }
   ],
   "source": [
    "start = timeit.default_timer()\n",
    "weighed_kde_result = kde_based_method_testing(strata_catalogue, LEFT_DATE, RIGHT_DATE, .1).cache(); weighed_kde_result.show()\n",
    "stop = timeit.default_timer()\n",
    "EXECUTION_TIME[3] = stop - start\n",
    "print('Execution time is', stop - start)"
   ]
  },
  {
   "cell_type": "markdown",
   "metadata": {},
   "source": [
    "### Error"
   ]
  },
  {
   "cell_type": "code",
   "execution_count": 37,
   "metadata": {},
   "outputs": [],
   "source": [
    "weighted_kde_error = calculate_error(weighed_kde_result, exact_result)\n",
    "ERROR[3] = (weighted_kde_error.mean().mean(), weighted_kde_error.mean().std())"
   ]
  },
  {
   "cell_type": "code",
   "execution_count": 38,
   "metadata": {},
   "outputs": [
    {
     "data": {
      "text/plain": [
       "sum_qty           0.097679\n",
       "sum_base_price    0.097632\n",
       "sum_disc_price    0.097720\n",
       "sum_charge        0.097802\n",
       "avg_qty           0.002119\n",
       "avg_price         0.001852\n",
       "avg_disc          0.000890\n",
       "count_order       0.096923\n",
       "dtype: float64"
      ]
     },
     "execution_count": 38,
     "metadata": {},
     "output_type": "execute_result"
    }
   ],
   "source": [
    "weighted_kde_error.mean()"
   ]
  },
  {
   "cell_type": "code",
   "execution_count": null,
   "metadata": {},
   "outputs": [],
   "source": []
  },
  {
   "cell_type": "code",
   "execution_count": 24,
   "metadata": {},
   "outputs": [
    {
     "data": {
      "text/plain": [
       "[0, 0, 0, 6.882161676999999]"
      ]
     },
     "execution_count": 24,
     "metadata": {},
     "output_type": "execute_result"
    }
   ],
   "source": [
    "CONSTRUCTION_TIME"
   ]
  },
  {
   "cell_type": "code",
   "execution_count": 25,
   "metadata": {},
   "outputs": [
    {
     "data": {
      "text/plain": [
       "[0, 0, 0, 2.4430036059999907]"
      ]
     },
     "execution_count": 25,
     "metadata": {},
     "output_type": "execute_result"
    }
   ],
   "source": [
    "EXECUTION_TIME"
   ]
  },
  {
   "cell_type": "code",
   "execution_count": 26,
   "metadata": {},
   "outputs": [
    {
     "data": {
      "text/plain": [
       "[0, 0, 0, (0.061577356121153705, 0.0496508367216221)]"
      ]
     },
     "execution_count": 26,
     "metadata": {},
     "output_type": "execute_result"
    }
   ],
   "source": [
    "ERROR"
   ]
  },
  {
   "cell_type": "code",
   "execution_count": 27,
   "metadata": {},
   "outputs": [
    {
     "data": {
      "text/plain": [
       "[0.0, 0.0, 0.0, 0.3644533157348633]"
      ]
     },
     "execution_count": 27,
     "metadata": {},
     "output_type": "execute_result"
    }
   ],
   "source": [
    "[s / 2 ** 20 for s in SPACE]"
   ]
  },
  {
   "cell_type": "markdown",
   "metadata": {},
   "source": [
    "# 5. Experiments of Weighted KDE Method"
   ]
  },
  {
   "cell_type": "markdown",
   "metadata": {},
   "source": [
    "## 5.1. Effect of Selectivity \n",
    "To effectively change the predicate's selectivity, the exact form of Query 1 is changed slightly such that the ship date the predicate specifies is a certain closed interval instead of a half-open interval.  "
   ]
  },
  {
   "cell_type": "code",
   "execution_count": 41,
   "metadata": {},
   "outputs": [],
   "source": [
    "def impact_of_selectivity(x_plot):\n",
    "    error_bank, runtime, query_range = [], [], []\n",
    "    for d in x_plot:\n",
    "        left_date = date(1998, 12, 1) - timedelta(days = int(d))\n",
    "        right_date= date(1998, 12, 1) + timedelta(days = int(d))\n",
    "        \n",
    "        # Query range\n",
    "        query_range.append(lineitem.where((left_date<=f.col(\"l_shipdate\")) & (f.col(\"l_shipdate\")<=right_date)).count() / lineitem.count() * 100)\n",
    "        \n",
    "        # Approximation\n",
    "        start = timeit.default_timer()\n",
    "        Q1_kde_approx = kde_based_method_testing(strata_catalogue, left_date, right_date, 'scott'); Q1_kde_approx.count()\n",
    "        stop = timeit.default_timer(); estimation_time = stop - start\n",
    "        \n",
    "        # Stratified Sampling\n",
    "        start = timeit.default_timer()\n",
    "        spark.sql(\"CLEAR CACHE\").collect(); spark.catalog.clearCache()\n",
    "        sample_df = spark.read.parquet('./pickles/sampleDF'); count_df = spark.read.parquet('./pickles/countDF')\n",
    "        Q1_samp_approx = compute_approximate_result(sample_df, count_df, left_date, right_date); Q1_samp_approx.count()\n",
    "        stop = timeit.default_timer(); stra_samp_time = stop - start\n",
    "        \n",
    "        # Exact\n",
    "        start = timeit.default_timer()\n",
    "        spark.sql(\"CLEAR CACHE\").collect(); spark.catalog.clearCache()\n",
    "        Q1_exact = compute_exact_result(lineitem, left_date, right_date); Q1_exact.count()\n",
    "        stop = timeit.default_timer(); exact_time = stop - start\n",
    "        \n",
    "        # Store performace\n",
    "        runtime.append([estimation_time, stra_samp_time, exact_time])\n",
    "        kde_error =  calculate_error(Q1_kde_approx,  Q1_exact).mean()\n",
    "        samp_error = calculate_error(Q1_samp_approx, Q1_exact).mean()\n",
    "        error_bank.append((kde_error.mean(), kde_error.std(), samp_error.mean(), samp_error.std() ))\n",
    "        \n",
    "    return query_range, runtime, error_bank\n"
   ]
  },
  {
   "cell_type": "code",
   "execution_count": 42,
   "metadata": {},
   "outputs": [],
   "source": [
    "x_plot = np.linspace(100, 2700, 11)\n",
    "query_range, runtime, error_bank = impact_of_selectivity(x_plot)"
   ]
  },
  {
   "cell_type": "code",
   "execution_count": 108,
   "metadata": {},
   "outputs": [
    {
     "data": {
      "text/plain": [
       "1.7742740428396582"
      ]
     },
     "execution_count": 108,
     "metadata": {},
     "output_type": "execute_result"
    }
   ],
   "source": [
    "left_date = date(1998, 12, 1) - timedelta(days = int(100))\n",
    "right_date= date(1998, 12, 1) + timedelta(days = int(100))\n",
    "lineitem.where((left_date<=f.col(\"l_shipdate\")) & (f.col(\"l_shipdate\")<=right_date)).count() / lineitem.count() * 100"
   ]
  },
  {
   "cell_type": "markdown",
   "metadata": {},
   "source": [
    "### How does the predicate selectivity influence the execution time?"
   ]
  },
  {
   "cell_type": "code",
   "execution_count": 99,
   "metadata": {},
   "outputs": [
    {
     "data": {
      "image/png": "[encoded data removed]",
      "text/plain": [
       "<Figure size 504x360 with 1 Axes>"
      ]
     },
     "metadata": {
      "needs_background": "light"
     },
     "output_type": "display_data"
    }
   ],
   "source": [
    "# Time\n",
    "plt.figure(figsize=(7, 5))\n",
    "plt.plot(query_range, 5 + np.array(runtime)[:,2], 'k:', label='Exact')\n",
    "plt.plot(query_range, 2.5 + np.array(runtime)[:,1], 'b:', label='Stratfied Sampling')\n",
    "plt.plot(query_range, np.array(runtime)[:,2], 'k', label='Exact (In-Meory)')\n",
    "plt.plot(query_range, np.array(runtime)[:,1], 'b', label='Stratfied Sampling (In-Meory)')\n",
    "plt.plot(query_range, np.array(runtime)[:,0], 'y' , label='Weighted KDE')\n",
    "\n",
    "plt.legend(loc='best', bbox_to_anchor=(0.6, 0.5, 0.4, 0.4))\n",
    "plt.xlabel('Query Range(%)')\n",
    "plt.ylabel('Time(s)')\n",
    "\n",
    "plt.savefig('./figs/time_selectivity.png')"
   ]
  },
  {
   "cell_type": "markdown",
   "metadata": {},
   "source": [
    "### How does the predicate selectivity influence the error?"
   ]
  },
  {
   "cell_type": "code",
   "execution_count": 45,
   "metadata": {},
   "outputs": [
    {
     "data": {
      "image/png": "[encoded data removed]",
      "text/plain": [
       "<Figure size 432x288 with 1 Axes>"
      ]
     },
     "metadata": {
      "needs_background": "light"
     },
     "output_type": "display_data"
    }
   ],
   "source": [
    "# Error\n",
    "plt.figure(figsize=(6, 4))\n",
    "plt.errorbar(query_range, [mean for mean, std, _ , _ in error_bank], yerr=[std for mean, std,  _ , _ in error_bank],\\\n",
    "             fmt='*:', capsize=4, label='Weighted KDE')\n",
    "plt.errorbar(query_range, [mean for  _ , _ , mean, std in error_bank], yerr=[std for _ , _,mean, std in error_bank],\\\n",
    "             fmt='o:', capsize=4, label='Stratified Sampling')\n",
    "plt.legend()\n",
    "plt.xlabel('Query Range(%)')\n",
    "plt.ylabel('Relative Error(%)')\n",
    "plt.savefig('./figs/error_selectivity.png')"
   ]
  },
  {
   "cell_type": "markdown",
   "metadata": {},
   "source": [
    "# 5.2. Effect of Kernel Bandwidth"
   ]
  },
  {
   "cell_type": "code",
   "execution_count": 112,
   "metadata": {},
   "outputs": [],
   "source": [
    "def impact_of_bandwidth(bw_plot, d):\n",
    "    error_bank, runtime = [], []\n",
    "    for bw in bw_plot:\n",
    "        left_date = date(1998, 12, 1) - timedelta(days = d)\n",
    "        right_date= date(1998, 12, 1) + timedelta(days = d)\n",
    "        \n",
    "        \n",
    "        # Construction\n",
    "#         start = timeit.default_timer()\n",
    "#         strata_catalogue, hashMap_kde = kde_based_method_construction(lineitem_clean)\n",
    "#         strata_catalogue = strata_catalogue.cache(); strata_catalogue.count()\n",
    "#         stop = timeit.default_timer(); construction_time = stop - start\n",
    "        \n",
    "        # Execution time\n",
    "        start = timeit.default_timer()\n",
    "        Q1_kde_approx = kde_based_method_testing(strata_catalogue, left_date, right_date, bw).cache(); Q1_kde_approx.count()\n",
    "        stop = timeit.default_timer(); estimation_time = stop - start\n",
    "        \n",
    "        # Exact query \n",
    "        start = timeit.default_timer()\n",
    "        Q1_exact = compute_exact_result(lineitem, left_date, right_date); Q1_exact.count()\n",
    "        stop = timeit.default_timer(); exact_time = stop - start\n",
    "        \n",
    "        # Store performace\n",
    "#         runtime.append([construction_time, estimation_time, exact_time])\n",
    "        runtime.append([estimation_time, exact_time])\n",
    "        error_bank.append((calculate_error(Q1_kde_approx, Q1_exact).mean().mean(), calculate_error(Q1_kde_approx, Q1_exact).mean().std()))\n",
    "    return error_bank, runtime"
   ]
  },
  {
   "cell_type": "markdown",
   "metadata": {},
   "source": [
    "### Effect of bandwidth on a large predicate length (2000). \n",
    "A small kernel width provides a model of higher resolution."
   ]
  },
  {
   "cell_type": "code",
   "execution_count": 50,
   "metadata": {},
   "outputs": [],
   "source": [
    "bw_plot = np.linspace(.01, .6, 10)\n",
    "error_bank_bw_large, runtime_bw_large = impact_of_bandwidth(bw_plot, 2000)"
   ]
  },
  {
   "cell_type": "code",
   "execution_count": 53,
   "metadata": {},
   "outputs": [
    {
     "data": {
      "image/png": "[encoded data removed]",
      "text/plain": [
       "<Figure size 432x288 with 1 Axes>"
      ]
     },
     "metadata": {
      "needs_background": "light"
     },
     "output_type": "display_data"
    }
   ],
   "source": [
    "# Error\n",
    "plt.figure(figsize=(6, 4))\n",
    "plt.errorbar(bw_plot, [mean for mean, std in error_bank_bw_large], fmt=\"o:\", \\\n",
    "             yerr=[std for mean, std in error_bank_bw_large], capsize=4)\n",
    "plt.xlabel('Bandwidth')\n",
    "plt.ylabel('Relative Error')\n",
    "plt.savefig('./figs/error_bw_2000.png')"
   ]
  },
  {
   "cell_type": "code",
   "execution_count": 54,
   "metadata": {
    "scrolled": false
   },
   "outputs": [
    {
     "data": {
      "image/png": "[encoded data removed]",
      "text/plain": [
       "<Figure size 432x288 with 1 Axes>"
      ]
     },
     "metadata": {
      "needs_background": "light"
     },
     "output_type": "display_data"
    }
   ],
   "source": [
    "plt.figure(figsize=(6, 4))\n",
    "plt.plot(bw_plot, np.array(runtime_bw_large)[:,1], label='Execution')\n",
    "plt.plot(bw_plot, np.array(runtime_bw_large)[:,0], label='Construction')\n",
    "plt.plot(bw_plot, np.array(runtime_bw_large)[:,2], label='Exact')\n",
    "plt.legend(loc=4)\n",
    "plt.xlabel('Bandwidth')\n",
    "plt.ylabel('Time(s)')\n",
    "# plt.savefig('./figs/time_bw_2000.png')"
   ]
  },
  {
   "cell_type": "markdown",
   "metadata": {},
   "source": [
    "### Effect of bandwidth on a samll predicate length (10). \n",
    "A small kernel width provides a model of higher resolution."
   ]
  },
  {
   "cell_type": "code",
   "execution_count": 56,
   "metadata": {},
   "outputs": [],
   "source": [
    "error_bank_bw_small, runtime_bw_small = impact_of_bandwidth(bw_plot, 100)"
   ]
  },
  {
   "cell_type": "code",
   "execution_count": 106,
   "metadata": {},
   "outputs": [
    {
     "data": {
      "image/png": "[encoded data removed]",
      "text/plain": [
       "<Figure size 432x288 with 1 Axes>"
      ]
     },
     "metadata": {
      "needs_background": "light"
     },
     "output_type": "display_data"
    }
   ],
   "source": [
    "# Error\n",
    "plt.figure(figsize=(6, 4))\n",
    "plt.errorbar(bw_plot, [mean for mean, std in error_bank_bw_small], fmt=\"ko:\", \\\n",
    "             yerr=[std for mean, std in error_bank_bw_small], capsize=4, label = '2% Data Queried')\n",
    "plt.errorbar(bw_plot, [mean for mean, std in error_bank_bw_large], fmt=\"o:\", \\\n",
    "             yerr=[std for mean, std in error_bank_bw_large], capsize=4, label = '80% Data Queried')\n",
    "plt.xlabel('Bandwidth')\n",
    "plt.ylabel('Relative Error')\n",
    "plt.legend(loc=2)\n",
    "plt.savefig('./figs/error_bw.jpg')"
   ]
  },
  {
   "cell_type": "code",
   "execution_count": 127,
   "metadata": {},
   "outputs": [
    {
     "data": {
      "text/plain": [
       "<matplotlib.legend.Legend at 0x1a23133190>"
      ]
     },
     "execution_count": 127,
     "metadata": {},
     "output_type": "execute_result"
    },
    {
     "data": {
      "image/png": "[encoded data removed]",
      "text/plain": [
       "<Figure size 432x288 with 1 Axes>"
      ]
     },
     "metadata": {
      "needs_background": "light"
     },
     "output_type": "display_data"
    }
   ],
   "source": [
    "plt.figure(figsize=(6, 4))\n",
    "plt.plot(bw_plot, np.array(runtime_bw)[:,0], label='Construction')\n",
    "plt.plot(bw_plot, np.array(runtime_bw)[:,1], label='Execution')\n",
    "plt.plot(bw_plot, np.array(runtime_bw)[:,2], label='Exact')\n",
    "plt.legend(loc=4)\n",
    "plt.xlabel('Bandwidth')\n",
    "plt.ylabel('Time(s)')\n",
    "plt.savefig('./figs/time_bw_10.jpg')"
   ]
  },
  {
   "cell_type": "markdown",
   "metadata": {},
   "source": [
    "## Effect of very samll bandwidth "
   ]
  },
  {
   "cell_type": "code",
   "execution_count": 120,
   "metadata": {},
   "outputs": [
    {
     "data": {
      "text/plain": [
       "Text(0, 0.5, 'Relative Error')"
      ]
     },
     "execution_count": 120,
     "metadata": {},
     "output_type": "execute_result"
    },
    {
     "data": {
      "image/png": "[encoded data removed]",
      "text/plain": [
       "<Figure size 504x360 with 1 Axes>"
      ]
     },
     "metadata": {
      "needs_background": "light"
     },
     "output_type": "display_data"
    }
   ],
   "source": [
    "bw_plot = np.linspace(.000001, .0001, 10)\n",
    "error_bank_bw, runtime_bw = impact_of_bandwidth(bw_plot, 2000)\n",
    "\n",
    "# Error\n",
    "plt.figure(figsize=(7, 5))\n",
    "plt.errorbar(bw_plot, [mean for mean, std in error_bank_bw], fmt=\"ko:\", \\\n",
    "             yerr=[std for mean, std in error_bank_bw], capsize=4, ecolor='grey')\n",
    "plt.xlabel('Bandwidth')\n",
    "plt.ylabel('Relative Error')\n",
    "# plt.savefig('./figs/time_bw_100.jpg')"
   ]
  },
  {
   "cell_type": "code",
   "execution_count": 121,
   "metadata": {},
   "outputs": [
    {
     "data": {
      "text/plain": [
       "Text(0, 0.5, 'Time(s)')"
      ]
     },
     "execution_count": 121,
     "metadata": {},
     "output_type": "execute_result"
    },
    {
     "data": {
      "image/png": "[encoded data removed]",
      "text/plain": [
       "<Figure size 432x288 with 1 Axes>"
      ]
     },
     "metadata": {
      "needs_background": "light"
     },
     "output_type": "display_data"
    }
   ],
   "source": [
    "plt.figure(figsize=(6, 4))\n",
    "# plt.plot(bw_plot, np.array(runtime_bw)[:,0], label='Construction')\n",
    "plt.plot(bw_plot, np.array(runtime_bw)[:,0], label='Execution')\n",
    "plt.plot(bw_plot, np.array(runtime_bw)[:,1], label='Exact')\n",
    "plt.legend(loc=4)\n",
    "plt.xlabel('Bandwidth')\n",
    "plt.ylabel('Time(s)')\n",
    "# plt.savefig('./figs/time_bw_100.jpg')"
   ]
  },
  {
   "cell_type": "code",
   "execution_count": null,
   "metadata": {},
   "outputs": [],
   "source": []
  }
 ],
 "metadata": {
  "kernelspec": {
   "display_name": "Python [conda env:ada] *",
   "language": "python",
   "name": "conda-env-ada-py"
  },
  "language_info": {
   "codemirror_mode": {
    "name": "ipython",
    "version": 3
   },
   "file_extension": ".py",
   "mimetype": "text/x-python",
   "name": "python",
   "nbconvert_exporter": "python",
   "pygments_lexer": "ipython3",
   "version": "3.7.5"
  }
 },
 "nbformat": 4,
 "nbformat_minor": 2
}
