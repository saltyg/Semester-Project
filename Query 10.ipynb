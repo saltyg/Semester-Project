{
 "cells": [
  {
   "cell_type": "markdown",
   "metadata": {},
   "source": [
    "# Query 10\n",
    "0. Exact result\n",
    "1. Stratified sampling\n",
    "2. Weighted KDE\n",
    "3. Effect of the number of groups"
   ]
  },
  {
   "cell_type": "code",
   "execution_count": null,
   "metadata": {},
   "outputs": [],
   "source": [
    "select\n",
    "\tc_custkey,\n",
    "\tc_name,\n",
    "\tsum(l_extendedprice * (1 - l_discount)) as revenue,\n",
    "\tc_acctbal,\n",
    "\tn_name,\n",
    "\tc_address,\n",
    "\tc_phone,\n",
    "\tc_comment\n",
    "from\n",
    "\tcustomer,\n",
    "\torders,\n",
    "\tlineitem,\n",
    "\tnation\n",
    "where\n",
    "\tc_custkey = o_custkey\n",
    "\tand l_orderkey = o_orderkey\n",
    "\tand o_orderdate >= date ':1'\n",
    "\tand o_orderdate < date ':1' + interval '3' month\n",
    "\tand l_returnflag = 'R'\n",
    "\tand c_nationkey = n_nationkey\n",
    "group by\n",
    "\tc_custkey,\n",
    "\tc_name,\n",
    "\tc_acctbal,\n",
    "\tc_phone,\n",
    "\tn_name,\n",
    "\tc_address,\n",
    "\tc_comment\n",
    "order by\n",
    "\trevenue desc;"
   ]
  },
  {
   "cell_type": "code",
   "execution_count": 1,
   "metadata": {},
   "outputs": [],
   "source": [
    "import numpy as np\n",
    "import pandas as pd\n",
    "import matplotlib\n",
    "import matplotlib.pyplot as plt\n",
    "from distutils.version import LooseVersion\n",
    "\n",
    "from collections import Counter\n",
    "\n",
    "import scipy\n",
    "from scipy.stats import gaussian_kde\n",
    "from scipy import integrate\n",
    "\n",
    "import timeit\n",
    "import pickle\n",
    "from datetime import date, timedelta\n",
    "import sys\n",
    "import scipy.stats as st\n",
    "from random import random"
   ]
  },
  {
   "cell_type": "code",
   "execution_count": 2,
   "metadata": {},
   "outputs": [],
   "source": [
    "import pyspark\n",
    "import pyspark.sql\n",
    "from pyspark.sql import *\n",
    "import pyspark.sql.functions as f\n",
    "from pyspark.sql.functions import col\n",
    "\n",
    "from pyspark import broadcast\n",
    "# To avoid OverflowError: cannot serialize a string larger than 4GiB\n",
    "def broadcast_dump(self, value, f):\n",
    "    pickle.dump(value, f, 4)  # was 2, 4 is first protocol supporting >4GB\n",
    "    f.close()\n",
    "    return f.name\n",
    "broadcast.Broadcast.dump = broadcast_dump\n",
    "\n",
    "conf = pyspark.SparkConf().setMaster(\"local[32]\").setAll([\n",
    "                                   ('spark.executor.memory', '4g'),  # find\n",
    "                                   ('spark.driver.memory','10g'), # your\n",
    "                                   ('spark.driver.maxResultSize', '4G') # setup\n",
    "                                  ])\n",
    "# create the session\n",
    "spark = SparkSession.builder.config(conf=conf).getOrCreate()\n",
    "\n",
    "# create the context\n",
    "sc = spark.sparkContext\n",
    "\n",
    "# FIX for Spark 2.x\n",
    "locale = sc._jvm.java.util.Locale\n",
    "locale.setDefault(locale.forLanguageTag(\"en-US\"))"
   ]
  },
  {
   "cell_type": "code",
   "execution_count": 3,
   "metadata": {},
   "outputs": [
    {
     "data": {
      "text/html": [
       "<style>.container { width:90% !important; }</style>"
      ],
      "text/plain": [
       "<IPython.core.display.HTML object>"
      ]
     },
     "metadata": {},
     "output_type": "display_data"
    }
   ],
   "source": [
    "from IPython.core.display import display, HTML\n",
    "display(HTML(\"<style>.container { width:90% !important; }</style>\"))"
   ]
  },
  {
   "cell_type": "code",
   "execution_count": 4,
   "metadata": {},
   "outputs": [],
   "source": [
    "import stratified_sampling"
   ]
  },
  {
   "cell_type": "code",
   "execution_count": 5,
   "metadata": {},
   "outputs": [],
   "source": [
    "lineitem = spark.read.parquet(\"/Users/futongliu/Downloads/SemesterProject/tpch_parquet_sf1/lineitem.parquet\")#.limit(3000)\n",
    "nation = spark.read.parquet(\"/Users/futongliu/Downloads/SemesterProject/tpch_parquet_sf1/nation.parquet\")#.limit(3000)\n",
    "customer = spark.read.parquet(\"/Users/futongliu/Downloads/SemesterProject/tpch_parquet_sf1/customer.parquet\")#.limit(3000)\n",
    "orders = spark.read.parquet(\"/Users/futongliu/Downloads/SemesterProject/tpch_parquet_sf1/order.parquet\")#.limit(3000)"
   ]
  },
  {
   "cell_type": "markdown",
   "metadata": {},
   "source": [
    "### Helper Functions"
   ]
  },
  {
   "cell_type": "code",
   "execution_count": 6,
   "metadata": {},
   "outputs": [],
   "source": [
    "CONSTRUCTION_TIME = [0] * 2\n",
    "EXECUTION_TIME = [0] * 2\n",
    "SPACE = [0] * 2\n",
    "ERROR = [0] * 2"
   ]
  },
  {
   "cell_type": "code",
   "execution_count": 7,
   "metadata": {},
   "outputs": [],
   "source": [
    "THE_DATE = date(1994, 12, 4)\n",
    "QCS = ['c_custkey','c_name','c_acctbal','c_phone','n_name','c_address','c_comment', 'o_orderdate']"
   ]
  },
  {
   "cell_type": "code",
   "execution_count": 246,
   "metadata": {},
   "outputs": [],
   "source": [
    "def calculate_error(Q1_approx, Q1_exact):\n",
    "    df1 = Q1_exact.toPandas()\n",
    "    for n in QCS[:-1]:\n",
    "        df1[n] = df1[n].astype(str)\n",
    "    df1['revenue'] = df1['revenue'].astype(float)\n",
    "    df1 = df1.set_index(QCS[:-1]).astype(float)\n",
    "    \n",
    "    df2 = Q1_approx.toPandas()\n",
    "    for n in QCS[:-1]:\n",
    "        df2[n] = df2[n].astype(str)\n",
    "    df2['revenue'] = df2['revenue'].astype(float)\n",
    "    df2 = df2.set_index(QCS[:-1]).astype(float)\n",
    "    \n",
    "#     return df1.merge(df2, on=QCS[:-1])\n",
    "    return abs(df2 - df1) * 100 / df1\n",
    "\n",
    "def calculate_size_of(obj):\n",
    "    p = pickle.dumps(obj)\n",
    "    size = sys.getsizeof(p)\n",
    "    print('The size of the object in MB: ', size / 2 ** 20)\n",
    "    return size"
   ]
  },
  {
   "cell_type": "markdown",
   "metadata": {},
   "source": [
    "# 0. Exact Result"
   ]
  },
  {
   "cell_type": "code",
   "execution_count": 24,
   "metadata": {
    "scrolled": true
   },
   "outputs": [],
   "source": [
    "DF = customer.join(orders, customer.c_custkey == orders.o_custkey)\\\n",
    "            .join(lineitem, lineitem.l_orderkey == orders.o_orderkey)\\\n",
    "            .join(nation, customer.c_nationkey == nation.n_nationkey)\\\n",
    "            .where(f.col('l_returnflag') == 'R')"
   ]
  },
  {
   "cell_type": "code",
   "execution_count": 25,
   "metadata": {},
   "outputs": [
    {
     "name": "stdout",
     "output_type": "stream",
     "text": [
      "+---------+------------------+---------+---------------+--------------+--------------------+--------------------+-----+--------+\n",
      "|c_custkey|            c_name|c_acctbal|        c_phone|        n_name|           c_address|           c_comment|count|group_id|\n",
      "+---------+------------------+---------+---------------+--------------+--------------------+--------------------+-----+--------+\n",
      "|    27769|Customer#000027769|  7477.63|28-747-711-5565|         CHINA|XOQ,AWoncwqEeifB3...| ironic instructi...|    8|       0|\n",
      "|   103232|Customer#000103232|  5460.75|27-300-237-8925|          PERU|    w3rZX0,MNHjJk b1|ns. pending theod...|   12|       1|\n",
      "|    51682|Customer#000051682|  9334.71|20-369-799-1417|          IRAN|          oVDoqa RvX|iously final pack...|   15|       2|\n",
      "|    88525|Customer#000088525|  8554.47|33-864-385-4957|UNITED KINGDOM|ImS3WjUFYOBgFb8mQ...|quickly unusual d...|   21|       3|\n",
      "|    96232|Customer#000096232|  4774.73|13-321-611-8029|        CANADA|uoGMpTvAS4xJhox,p...|ades haggle above...|   17|       4|\n",
      "|   130324|Customer#000130324|  3109.57|26-345-771-6353|    MOZAMBIQUE|   wf4J2vrZrfY2wCWco|s. unusual, pendi...|   30|       5|\n",
      "|    54535|Customer#000054535|  6624.35|13-881-685-9450|        CANADA|FS4 tYKNVHKhcA3pe...|, regular package...|   26|       6|\n",
      "|    64174|Customer#000064174|  6381.65|27-211-694-7060|          PERU|0P5OzRJnWYnvclNGM...|osits wake slyly ...|   24|       7|\n",
      "|   131749|Customer#000131749|  1664.99|32-422-673-8799|        RUSSIA|cly7AbbE8uWHMPKNo...|arefully. blithel...|   19|       8|\n",
      "|      520|Customer#000000520|  8315.09|13-612-111-7765|        CANADA|yaOGc9Ve92Bi4F6e0...| haggle across th...|   22|       9|\n",
      "|      653|Customer#000000653|  7307.55|21-715-573-6928|          IRAQ|la,ROBPJ4I2YNzQw,...|aggle bravely dep...|    7|      10|\n",
      "|   149722|Customer#000149722|  9300.59|34-494-482-5167| UNITED STATES|OnJAdFFEPIkm0Ftsk...|ly bold packages ...|   14|      11|\n",
      "|    64952|Customer#000064952|  5911.91|22-814-992-4896|         JAPAN|XWRlhREPd3dCmZyob...|its across the qu...|   12|      12|\n",
      "|    35242|Customer#000035242|  2725.40|12-504-217-7193|        BRAZIL|oMU3XgajT PPAKXIU...|n pinto beans. fl...|   23|      13|\n",
      "|    94765|Customer#000094765|  5892.69|18-978-264-6893|         INDIA|      wT3qBIzCM5G3db|ounts. slyly unus...|   23|      14|\n",
      "|   123505|Customer#000123505|  2068.59|33-180-372-7578|UNITED KINGDOM|sKiSeYUzqq4Q6bQfn...|ges. carefully fu...|   14|      15|\n",
      "|    36487|Customer#000036487|  5690.99|17-707-306-5141|       GERMANY|D,7xUNgjVES9podov...|lithely regular p...|   14|      16|\n",
      "|    81838|Customer#000081838|  8060.19|14-987-847-5218|         EGYPT|jdmrZnQY ,SB5F4uT...|dolites. furiousl...|   17|      17|\n",
      "|   135650|Customer#000135650|  2748.11|25-149-953-4847|       MOROCCO|7mdoAFhDoTGpNTbj0...|sits cajole furio...|   12|      18|\n",
      "|   133177|Customer#000133177|  6712.12|16-406-242-6895|        FRANCE|oe,5JBoluBvGF1DJD...|efully above the ...|   15|      19|\n",
      "+---------+------------------+---------+---------------+--------------+--------------------+--------------------+-----+--------+\n",
      "only showing top 20 rows\n",
      "\n"
     ]
    }
   ],
   "source": [
    "DF.groupby(QCS[:-1]).count().withColumn('group_id', f.monotonically_increasing_id()).show(20)"
   ]
  },
  {
   "cell_type": "markdown",
   "metadata": {},
   "source": [
    "### Total number of groups in the DF dataframe / Sample a fixed number of groups in it"
   ]
  },
  {
   "cell_type": "code",
   "execution_count": 36,
   "metadata": {},
   "outputs": [
    {
     "data": {
      "text/plain": [
       "99318"
      ]
     },
     "execution_count": 36,
     "metadata": {},
     "output_type": "execute_result"
    }
   ],
   "source": [
    "DF.groupby(QCS[:-1]).count().count()"
   ]
  },
  {
   "cell_type": "code",
   "execution_count": 32,
   "metadata": {},
   "outputs": [],
   "source": [
    "def sample_groups(df, n):\n",
    "    return df.join(df.groupby(QCS[:-1]).count().withColumn('group_id', f.monotonically_increasing_id()), QCS[:-1])\\\n",
    "        .where(f.col('group_id').isin(list(range(n)))).drop('count', 'group_id')"
   ]
  },
  {
   "cell_type": "markdown",
   "metadata": {},
   "source": [
    "### Exact Result"
   ]
  },
  {
   "cell_type": "code",
   "execution_count": 37,
   "metadata": {},
   "outputs": [
    {
     "name": "stdout",
     "output_type": "stream",
     "text": [
      "+---------+------------------+---------+---------------+------+--------------------+--------------------+-----------+\n",
      "|c_custkey|            c_name|c_acctbal|        c_phone|n_name|           c_address|           c_comment|    revenue|\n",
      "+---------+------------------+---------+---------------+------+--------------------+--------------------+-----------+\n",
      "|    51682|Customer#000051682|  9334.71|20-369-799-1417|  IRAN|          oVDoqa RvX|iously final pack...|162315.9104|\n",
      "|      520|Customer#000000520|  8315.09|13-612-111-7765|CANADA|yaOGc9Ve92Bi4F6e0...| haggle across th...| 84960.2700|\n",
      "|    64174|Customer#000064174|  6381.65|27-211-694-7060|  PERU|0P5OzRJnWYnvclNGM...|osits wake slyly ...| 36957.8850|\n",
      "+---------+------------------+---------+---------------+------+--------------------+--------------------+-----------+\n",
      "\n",
      "Exectuion time of eaxt result 0.1447249660000125\n"
     ]
    }
   ],
   "source": [
    "def compute_exact_result(df, the_date):\n",
    "    return df.where( (the_date <= f.col(\"o_orderdate\")) & (f.col(\"o_orderdate\") < the_date + timedelta(days = 90)))\\\n",
    "            .groupby(QCS[:-1])\\\n",
    "            .agg(f.sum(col('l_extendedprice') * (1 - col('l_discount'))).alias('revenue'))\\\n",
    "            .sort(\"revenue\", ascending = False)\n",
    "\n",
    "start = timeit.default_timer()\n",
    "exact_result = compute_exact_result(df, THE_DATE).cache()\n",
    "exact_result.show()\n",
    "stop = timeit.default_timer()\n",
    "print('Exectuion time of eaxt result', stop - start)"
   ]
  },
  {
   "cell_type": "markdown",
   "metadata": {},
   "source": [
    "# 1. Stratified Sampling\n",
    "## 1.1. Construction"
   ]
  },
  {
   "cell_type": "code",
   "execution_count": 38,
   "metadata": {},
   "outputs": [
    {
     "name": "stdout",
     "output_type": "stream",
     "text": [
      "maxStrataSize:  6 minStrataSize:  2.0 midStrataSize:  4.0\n",
      "Estimated error with bisection:  551909.8263250664 User defined error bound 7646030.49\n",
      "maxStrataSize:  4.0 minStrataSize:  2.0 midStrataSize:  3.0\n",
      "Estimated error with bisection:  594613.7909848837 User defined error bound 7646030.49\n",
      "Construction time is  7.105877341999985\n"
     ]
    }
   ],
   "source": [
    "start = timeit.default_timer()\n",
    "sample_df = stratified_sampling.generate_stratified_sample(df, QCS, 0.01, 0.99).cache(); \n",
    "# sample_df.write.parquet('./pickles/Q10_sampleDF')\n",
    "count_df = df.groupby(QCS).count(); \n",
    "# count_df.write.parquet('./pickles/Q10_countDF')\n",
    "stop = timeit.default_timer()\n",
    "CONSTRUCTION_TIME[0] = stop - start\n",
    "print('Construction time is ', stop - start)"
   ]
  },
  {
   "cell_type": "code",
   "execution_count": 19,
   "metadata": {},
   "outputs": [],
   "source": [
    "# sample_df = spark.read.parquet('./pickles/Q10_sampleDF').cache()\n",
    "# count_df = spark.read.parquet('./pickles/Q10_countDF').cache()"
   ]
  },
  {
   "cell_type": "markdown",
   "metadata": {},
   "source": [
    "### Space"
   ]
  },
  {
   "cell_type": "code",
   "execution_count": 39,
   "metadata": {},
   "outputs": [
    {
     "name": "stdout",
     "output_type": "stream",
     "text": [
      "The size of the object in MB:  0.13580989837646484\n",
      "The size of the object in MB:  0.02418041229248047\n"
     ]
    }
   ],
   "source": [
    "SPACE[0] = calculate_size_of(sample_df.toPandas()) + calculate_size_of(count_df.toPandas())"
   ]
  },
  {
   "cell_type": "markdown",
   "metadata": {},
   "source": [
    "## 1.2. Execution\n"
   ]
  },
  {
   "cell_type": "code",
   "execution_count": 40,
   "metadata": {},
   "outputs": [],
   "source": [
    "def compute_approximate_result(sample_df, count_df, the_date):\n",
    "    count_df_ = count_df\\\n",
    "            .where( (the_date <= f.col(\"o_orderdate\")) & (f.col(\"o_orderdate\") < the_date + timedelta(days = 90)))\\\n",
    "            .groupby(QCS[:-1]).sum()\n",
    "    \n",
    "    sample_df_avg = sample_df\\\n",
    "            .where( (the_date <= f.col(\"o_orderdate\")) & (f.col(\"o_orderdate\") < the_date + timedelta(days = 90)))\\\n",
    "            .groupby(QCS[:-1])\\\n",
    "            .agg(f.avg(col('l_extendedprice') * (1 - col('l_discount'))).alias('revenue_avg'))\\\n",
    "            .join(count_df_, QCS[:-1])\n",
    "    \n",
    "    return sample_df_avg.withColumn('revenue', f.col('revenue_avg') * f.col('sum(count)') )\\\n",
    "            .select(QCS[:-1] + ['revenue']).sort(\"revenue\", ascending = False)\n"
   ]
  },
  {
   "cell_type": "markdown",
   "metadata": {},
   "source": [
    "### Execution Time"
   ]
  },
  {
   "cell_type": "code",
   "execution_count": 41,
   "metadata": {
    "scrolled": false
   },
   "outputs": [
    {
     "name": "stdout",
     "output_type": "stream",
     "text": [
      "+---------+------------------+--------------------+---------------+------+--------------------+--------------------+-------------+\n",
      "|c_custkey|            c_name|           c_acctbal|        c_phone|n_name|           c_address|           c_comment|      revenue|\n",
      "+---------+------------------+--------------------+---------------+------+--------------------+--------------------+-------------+\n",
      "|    51682|Customer#000051682|9334.710000000000...|20-369-799-1417|  IRAN|          oVDoqa RvX|iously final pack...|180328.780800|\n",
      "|      520|Customer#000000520|8315.090000000000...|13-612-111-7765|CANADA|yaOGc9Ve92Bi4F6e0...| haggle across th...| 84960.270000|\n",
      "|    64174|Customer#000064174|6381.650000000000...|27-211-694-7060|  PERU|0P5OzRJnWYnvclNGM...|osits wake slyly ...| 36957.885000|\n",
      "+---------+------------------+--------------------+---------------+------+--------------------+--------------------+-------------+\n",
      "\n",
      "Execution time is  1.7807593910001742\n"
     ]
    }
   ],
   "source": [
    "start = timeit.default_timer()\n",
    "sample_result = compute_approximate_result(sample_df, count_df, THE_DATE).cache(); sample_result.show()\n",
    "stop = timeit.default_timer()\n",
    "EXECUTION_TIME[0] = stop - start\n",
    "print('Execution time is ', stop - start)"
   ]
  },
  {
   "cell_type": "markdown",
   "metadata": {},
   "source": [
    "### Error"
   ]
  },
  {
   "cell_type": "code",
   "execution_count": 42,
   "metadata": {},
   "outputs": [],
   "source": [
    "sample_error = calculate_error(sample_result, exact_result)"
   ]
  },
  {
   "cell_type": "code",
   "execution_count": 43,
   "metadata": {},
   "outputs": [
    {
     "data": {
      "text/plain": [
       "(3.699138376845982, 6.40709561292511)"
      ]
     },
     "execution_count": 43,
     "metadata": {},
     "output_type": "execute_result"
    }
   ],
   "source": [
    "ERROR[0] = sample_error.mean()[0], sample_error.std()[0]\n",
    "ERROR[0]"
   ]
  },
  {
   "cell_type": "markdown",
   "metadata": {},
   "source": [
    "# 2. Weighted-KDE\n",
    "## 2.1. Construction"
   ]
  },
  {
   "cell_type": "code",
   "execution_count": 2,
   "metadata": {},
   "outputs": [],
   "source": [
    "df_clean = df.withColumn('o_orderdate', f.to_date('o_orderdate', 'yyyy-MM-dd'))\\\n",
    "            .withColumn('l_extendedprice', f.col('l_extendedprice').cast('float'))\\\n",
    "            .withColumn('l_discount', f.col('l_discount').cast('float'))"
   ]
  },
  {
   "cell_type": "code",
   "execution_count": 45,
   "metadata": {},
   "outputs": [],
   "source": [
    "transform, i_transform = {}, {}\n",
    "normalize = {}\n",
    "\n",
    "START_DATE = df_clean.select(f.min('o_orderdate')).first()[0]\n",
    "END_DATE = df_clean.select(f.max('o_orderdate')).first()[0]\n",
    "normalize['date'] = (START_DATE, END_DATE)\n",
    "def lambda_normalize_date(x):\n",
    "    transformed_date = -1 + 2 * (x - normalize['date'][0]).days / (normalize['date'][1] - normalize['date'][0]).days\n",
    "    if transformed_date < -1: return -1\n",
    "    elif transformed_date > 1: return 1\n",
    "    else: return transformed_date\n",
    "transform['date'] = lambda_normalize_date"
   ]
  },
  {
   "cell_type": "code",
   "execution_count": 46,
   "metadata": {},
   "outputs": [],
   "source": [
    "def compute_kdes(s_values, bw='scott'):\n",
    "    '''\n",
    "    Compute the KDE given the block that is already grouped by key \n",
    "    s_values[0]: stratum_str\n",
    "    s_values[1]: iterable block of rows that is identified by this stratum_str\n",
    "    '''\n",
    "    stratum_str, iterable_rows = s_values[0], s_values[1]\n",
    "    kdes_bank = dict()\n",
    "    \n",
    "    # Training Data\n",
    "    X_orderdate = []\n",
    "    X_revenue = []\n",
    "    \n",
    "    # Fill in the training data\n",
    "    for row in iterable_rows:\n",
    "        X_orderdate.append(transform['date'](row['o_orderdate']))\n",
    "        X_revenue.append(row['revenue'])\n",
    "        \n",
    "#     Store the trained model into the KDE bank\n",
    "    if len(X_orderdate) > 1:\n",
    "        kdes_bank['revenue'] = gaussian_kde(X_orderdate, bw_method=bw, weights = X_revenue)\n",
    "        kdes_bank['revenue_sum'] = np.sum(X_revenue)\n",
    "    else:\n",
    "        kdes_bank['date'] = X_orderdate[0]\n",
    "        kdes_bank['revenue'] = X_revenue[0]\n",
    "    \n",
    "    stra_list = stratum_str.split(\"*\")\n",
    "    return stra_list + [stratum_str, kdes_bank]"
   ]
  },
  {
   "cell_type": "code",
   "execution_count": 47,
   "metadata": {},
   "outputs": [],
   "source": [
    "def kde_based_method_construction(lineitem_clean):\n",
    "    strat_kde = lineitem_clean.groupby(QCS)\\\n",
    "            .agg(f.sum(col('l_extendedprice') * (1 - col('l_discount'))).alias('revenue')).rdd\\\n",
    "            .map(lambda row: (\"*\".join([str(row[x]) for x in QCS[:-1]]), row)).groupByKey()\\\n",
    "            .map(compute_kdes)\n",
    "    \n",
    "    hashMap_kde = {stratum_str: kde for stratum_str, kde in strat_kde.map(lambda row: (row[-2], row[-1])).collect()}\n",
    "    \n",
    "    strata_catalogue = strat_kde.map(lambda row: row[:8]).toDF(QCS[:-1] + ['stratum_str'])\n",
    "    # (DF) strata_catalogue: flag, status, date, stratum_str\n",
    "    return strata_catalogue, hashMap_kde"
   ]
  },
  {
   "cell_type": "markdown",
   "metadata": {},
   "source": [
    "### Construction"
   ]
  },
  {
   "cell_type": "code",
   "execution_count": 48,
   "metadata": {
    "scrolled": false
   },
   "outputs": [
    {
     "name": "stdout",
     "output_type": "stream",
     "text": [
      "+---------+------------------+---------+---------------+--------------+--------------------+--------------------+--------------------+\n",
      "|c_custkey|            c_name|c_acctbal|        c_phone|        n_name|           c_address|           c_comment|         stratum_str|\n",
      "+---------+------------------+---------+---------------+--------------+--------------------+--------------------+--------------------+\n",
      "|      520|Customer#000000520|  8315.09|13-612-111-7765|        CANADA|yaOGc9Ve92Bi4F6e0...| haggle across th...|520*Customer#0000...|\n",
      "|   103232|Customer#000103232|  5460.75|27-300-237-8925|          PERU|    w3rZX0,MNHjJk b1|ns. pending theod...|103232*Customer#0...|\n",
      "|    51682|Customer#000051682|  9334.71|20-369-799-1417|          IRAN|          oVDoqa RvX|iously final pack...|51682*Customer#00...|\n",
      "|    88525|Customer#000088525|  8554.47|33-864-385-4957|UNITED KINGDOM|ImS3WjUFYOBgFb8mQ...|quickly unusual d...|88525*Customer#00...|\n",
      "|    96232|Customer#000096232|  4774.73|13-321-611-8029|        CANADA|uoGMpTvAS4xJhox,p...|ades haggle above...|96232*Customer#00...|\n",
      "|    64174|Customer#000064174|  6381.65|27-211-694-7060|          PERU|0P5OzRJnWYnvclNGM...|osits wake slyly ...|64174*Customer#00...|\n",
      "|    54535|Customer#000054535|  6624.35|13-881-685-9450|        CANADA|FS4 tYKNVHKhcA3pe...|, regular package...|54535*Customer#00...|\n",
      "|   130324|Customer#000130324|  3109.57|26-345-771-6353|    MOZAMBIQUE|   wf4J2vrZrfY2wCWco|s. unusual, pendi...|130324*Customer#0...|\n",
      "|   131749|Customer#000131749|  1664.99|32-422-673-8799|        RUSSIA|cly7AbbE8uWHMPKNo...|arefully. blithel...|131749*Customer#0...|\n",
      "|    27769|Customer#000027769|  7477.63|28-747-711-5565|         CHINA|XOQ,AWoncwqEeifB3...| ironic instructi...|27769*Customer#00...|\n",
      "+---------+------------------+---------+---------------+--------------+--------------------+--------------------+--------------------+\n",
      "\n",
      "2.470699875000264\n"
     ]
    }
   ],
   "source": [
    "start = timeit.default_timer()\n",
    "strata_catalogue, hashMap_kde = kde_based_method_construction(df_clean)\n",
    "strata_catalogue = strata_catalogue.cache(); strata_catalogue.show()\n",
    "stop = timeit.default_timer()\n",
    "CONSTRUCTION_TIME[1] = stop - start\n",
    "print(stop - start)"
   ]
  },
  {
   "cell_type": "markdown",
   "metadata": {},
   "source": [
    "### Space"
   ]
  },
  {
   "cell_type": "code",
   "execution_count": 50,
   "metadata": {},
   "outputs": [
    {
     "name": "stdout",
     "output_type": "stream",
     "text": [
      "The size of the object in MB:  0.004565238952636719\n",
      "The size of the object in MB:  0.009151458740234375\n"
     ]
    }
   ],
   "source": [
    "SPACE[1] = calculate_size_of(strata_catalogue.toPandas()) + calculate_size_of(hashMap_kde)"
   ]
  },
  {
   "cell_type": "markdown",
   "metadata": {},
   "source": [
    "## Testing"
   ]
  },
  {
   "cell_type": "code",
   "execution_count": 191,
   "metadata": {},
   "outputs": [],
   "source": [
    "def kde_based_cal_result(row, hashMap_kde, l_date, r_date, bw):\n",
    "    '''\n",
    "    Compute the result with the KDE models\n",
    "    \n",
    "    row: a row in RDD\n",
    "    '''\n",
    "    revenue = 0\n",
    "    \n",
    "    kde_bank = hashMap_kde[row['stratum_str']]\n",
    "    \n",
    "    if 'date' not in kde_bank:\n",
    "        kde_revenue = kde_bank['revenue']; kde_revenue.set_bandwidth(bw)\n",
    "        revenue_frac = kde_revenue.integrate_box_1d(l_date, r_date)\n",
    "        return [row[x] for x in QCS[:-1]] + [float(revenue_frac)] + [float(kde_bank['revenue_sum'])]\n",
    "    else:\n",
    "        if l_date <= kde_bank['date'] < r_date:\n",
    "            return [row[x] for x in QCS[:-1]] + [1] + [ kde_bank['revenue'] ]\n",
    "        else:\n",
    "            return [row[x] for x in QCS[:-1]] + [0] + [0]\n",
    "    "
   ]
  },
  {
   "cell_type": "code",
   "execution_count": 215,
   "metadata": {},
   "outputs": [],
   "source": [
    "def kde_based_method_testing(strata_catalogue, hashMap_kde, the_date, bw = 'scott'):\n",
    "    '''\n",
    "    Args:\n",
    "        strata_catalogue: pre-saved DF with schema: flag, status, stratum_str\n",
    "        hashMap_kde: stratum_string -> Actual Kernel Density Estimation Models that corresponds to this stratum\n",
    "        left_date, right_date: datetime objects\n",
    "    Return:\n",
    "        Q1_kde_approx: A dataframe of pySpark\n",
    "    '''\n",
    "    l_date, r_date = transform['date'](the_date), transform['date'](the_date + timedelta(days = 90))\n",
    "    \n",
    "    Q1_kde_approx = strata_catalogue.rdd.map(lambda row: kde_based_cal_result(row, hashMap_kde, l_date, r_date, bw))\\\n",
    "        .toDF(QCS[:-1] + ['revenue_fraction'] + ['revenue_sum'])\\\n",
    "        .where(f.col('revenue_fraction') > 2e-2  )\\\n",
    "        .select(QCS[:-1] + [(f.col('revenue_sum') * f.col('revenue_fraction')).alias('revenue')])\\\n",
    "        .sort('revenue', ascending = False)\n",
    "    \n",
    "    return Q1_kde_approx"
   ]
  },
  {
   "cell_type": "markdown",
   "metadata": {},
   "source": [
    "### Execution"
   ]
  },
  {
   "cell_type": "code",
   "execution_count": 206,
   "metadata": {
    "scrolled": false
   },
   "outputs": [
    {
     "name": "stdout",
     "output_type": "stream",
     "text": [
      "+---------+------------------+---------+---------------+------+--------------------+--------------------+------------------+\n",
      "|c_custkey|            c_name|c_acctbal|        c_phone|n_name|           c_address|           c_comment|           revenue|\n",
      "+---------+------------------+---------+---------------+------+--------------------+--------------------+------------------+\n",
      "|    51682|Customer#000051682|  9334.71|20-369-799-1417|  IRAN|          oVDoqa RvX|iously final pack...|      162315.90625|\n",
      "|      520|Customer#000000520|  8315.09|13-612-111-7765|CANADA|yaOGc9Ve92Bi4F6e0...| haggle across th...|    84960.26953125|\n",
      "|    64174|Customer#000064174|  6381.65|27-211-694-7060|  PERU|0P5OzRJnWYnvclNGM...|osits wake slyly ...|36956.980874674824|\n",
      "+---------+------------------+---------+---------------+------+--------------------+--------------------+------------------+\n",
      "\n",
      "Execution time is 3.0868958439996277\n"
     ]
    }
   ],
   "source": [
    "start = timeit.default_timer()\n",
    "weighted_kde_result = kde_based_method_testing(strata_catalogue, hashMap_kde, THE_DATE, .002).cache(); weighted_kde_result.show()\n",
    "stop = timeit.default_timer()\n",
    "EXECUTION_TIME[1] = stop - start\n",
    "print('Execution time is', stop - start)"
   ]
  },
  {
   "cell_type": "markdown",
   "metadata": {},
   "source": [
    "Visulisation of a samll kernel bandwidth"
   ]
  },
  {
   "cell_type": "code",
   "execution_count": 207,
   "metadata": {},
   "outputs": [
    {
     "data": {
      "text/plain": [
       "1.1957835927027431e-50"
      ]
     },
     "execution_count": 207,
     "metadata": {},
     "output_type": "execute_result"
    },
    {
     "data": {
      "image/png": "[encoded data removed]",
      "text/plain": [
       "<Figure size 432x288 with 1 Axes>"
      ]
     },
     "metadata": {
      "needs_background": "light"
     },
     "output_type": "display_data"
    }
   ],
   "source": [
    "kde_ = hashMap_kde['54535*Customer#000054535*6624.35*13-881-685-9450*CANADA*FS4 tYKNVHKhcA3pe1WrWUBZCo0NqF3*, regular packages wake final requests. express pinto beans are slyly. asymptotes boost carefully alon']\\\n",
    "['revenue']\n",
    "kde_.set_bandwidth(.002)\n",
    "x_plot = np.linspace(-1, 1, 5000)\n",
    "plt.plot(x_plot, [kde_.evaluate(x) for x in x_plot])\n",
    "\n",
    "l_date, r_date = transform['date'](THE_DATE), transform['date'](THE_DATE + timedelta(days = 90))\n",
    "kde_ .integrate_box_1d(l_date, r_date)\n"
   ]
  },
  {
   "cell_type": "code",
   "execution_count": 252,
   "metadata": {},
   "outputs": [
    {
     "data": {
      "text/plain": [
       "array([2.55674258e-06, 5.51728477e-07, 2.44636652e-03])"
      ]
     },
     "execution_count": 252,
     "metadata": {},
     "output_type": "execute_result"
    }
   ],
   "source": [
    "calculate_error(weighted_kde_result, exact_result).revenue.values"
   ]
  },
  {
   "cell_type": "code",
   "execution_count": null,
   "metadata": {},
   "outputs": [],
   "source": []
  },
  {
   "cell_type": "markdown",
   "metadata": {},
   "source": [
    "### Error"
   ]
  },
  {
   "cell_type": "code",
   "execution_count": 122,
   "metadata": {
    "scrolled": false
   },
   "outputs": [],
   "source": [
    "weighted_kde_error = calculate_error(weighted_kde_result, exact_result)\n",
    "ERROR[1] = (weighted_kde_error.mean(), weighted_kde_error.mean())"
   ]
  },
  {
   "cell_type": "code",
   "execution_count": 123,
   "metadata": {},
   "outputs": [
    {
     "data": {
      "text/plain": [
       "array([nan])"
      ]
     },
     "execution_count": 123,
     "metadata": {},
     "output_type": "execute_result"
    }
   ],
   "source": [
    "weighted_kde_error.revenue.unique()"
   ]
  },
  {
   "cell_type": "code",
   "execution_count": null,
   "metadata": {},
   "outputs": [],
   "source": []
  },
  {
   "cell_type": "markdown",
   "metadata": {},
   "source": [
    "# Effect of the number of groups"
   ]
  },
  {
   "cell_type": "code",
   "execution_count": 266,
   "metadata": {},
   "outputs": [],
   "source": [
    "def effect_of_groups(groups):\n",
    "    error_bank, time_bank = [], []\n",
    "    for g in groups:\n",
    "        print(g)\n",
    "        df = sample_groups(DF, g).cache()\n",
    "        \n",
    "        df_clean = df.withColumn('o_orderdate', f.to_date('o_orderdate', 'yyyy-MM-dd'))\\\n",
    "            .withColumn('l_extendedprice', f.col('l_extendedprice').cast('float'))\\\n",
    "            .withColumn('l_discount', f.col('l_discount').cast('float'))\n",
    "        \n",
    "        start = timeit.default_timer()\n",
    "        strata_catalogue, hashMap_kde = kde_based_method_construction(df_clean)\n",
    "        strata_catalogue = strata_catalogue.cache(); strata_catalogue.count()\n",
    "        stop = timeit.default_timer()\n",
    "        cons_time = stop - start\n",
    "        \n",
    "        \n",
    "        start = timeit.default_timer()\n",
    "        weighted_kde_result = kde_based_method_testing(strata_catalogue, hashMap_kde, THE_DATE, .002).cache(); weighted_kde_result.count()\n",
    "        stop = timeit.default_timer()\n",
    "        exe_time = stop - start\n",
    "        \n",
    "        start = timeit.default_timer()\n",
    "        exact_result = compute_exact_result(df, THE_DATE).cache(); exact_result.count()\n",
    "        stop = timeit.default_timer()\n",
    "        exact_time = stop - start\n",
    "        \n",
    "        errors = calculate_error(weighted_kde_result, exact_result).dropna().revenue.values\n",
    "        \n",
    "        time_bank.append([cons_time, exe_time, exact_time])\n",
    "        error_bank.append([np.mean(errors), np.std(errors)])\n",
    "#         return errors\n",
    "    return error_bank, time_bank\n",
    "    "
   ]
  },
  {
   "cell_type": "code",
   "execution_count": 267,
   "metadata": {
    "scrolled": false
   },
   "outputs": [
    {
     "name": "stdout",
     "output_type": "stream",
     "text": [
      "1020\n",
      "2020\n",
      "3020\n",
      "4020\n",
      "5020\n",
      "6020\n",
      "7020\n",
      "8020\n",
      "9020\n"
     ]
    }
   ],
   "source": [
    "groups = range(1020, 10000, 1000)\n",
    "error_bank, time_bank = effect_of_groups(groups)"
   ]
  },
  {
   "cell_type": "code",
   "execution_count": 268,
   "metadata": {},
   "outputs": [
    {
     "data": {
      "text/plain": [
       "Text(0, 0.5, 'Relative Error')"
      ]
     },
     "execution_count": 268,
     "metadata": {},
     "output_type": "execute_result"
    },
    {
     "data": {
      "image/png": "[encoded data removed]",
      "text/plain": [
       "<Figure size 432x288 with 1 Axes>"
      ]
     },
     "metadata": {
      "needs_background": "light"
     },
     "output_type": "display_data"
    }
   ],
   "source": [
    "# Error\n",
    "plt.figure(figsize=(6, 4))\n",
    "plt.errorbar(groups, [mean for mean, std in error_bank], fmt=\"o:\", \\\n",
    "             yerr=[std for mean, std in error_bank], capsize=4)\n",
    "plt.xlabel('Number of Groups')\n",
    "plt.ylabel('Relative Error')\n",
    "# plt.savefig('./figs/error_groups.png')"
   ]
  },
  {
   "cell_type": "code",
   "execution_count": 276,
   "metadata": {},
   "outputs": [
    {
     "data": {
      "image/png": "[encoded data removed]",
      "text/plain": [
       "<Figure size 432x288 with 1 Axes>"
      ]
     },
     "metadata": {
      "needs_background": "light"
     },
     "output_type": "display_data"
    }
   ],
   "source": [
    "plt.figure(figsize=(6, 4))\n",
    "plt.plot(groups, np.array(time_bank)[:,1], label='Execution')\n",
    "plt.plot(groups, np.array(time_bank)[:,0], label='Construction')\n",
    "plt.plot(groups, np.array(time_bank)[:,2], label='Exact')\n",
    "plt.legend(loc='center right')\n",
    "plt.xlabel('Number of Groups')\n",
    "plt.ylabel('Time(s)')\n",
    "plt.savefig('./figs/time_groups.png')"
   ]
  },
  {
   "cell_type": "code",
   "execution_count": 270,
   "metadata": {},
   "outputs": [
    {
     "data": {
      "text/plain": [
       "[[1.095827842472591, 5.9433225046983775],\n",
       " [1.095827842472591, 5.9433225046983775],\n",
       " [1.095827842472591, 5.9433225046983775],\n",
       " [1.095827842472591, 5.9433225046983775],\n",
       " [1.095827842472591, 5.9433225046983775],\n",
       " [1.095827842472591, 5.9433225046983775],\n",
       " [1.095827842472591, 5.9433225046983775],\n",
       " [1.095827842472591, 5.9433225046983775],\n",
       " [1.095827842472591, 5.9433225046983775]]"
      ]
     },
     "execution_count": 270,
     "metadata": {},
     "output_type": "execute_result"
    }
   ],
   "source": [
    "error_bank"
   ]
  },
  {
   "cell_type": "code",
   "execution_count": null,
   "metadata": {},
   "outputs": [],
   "source": []
  }
 ],
 "metadata": {
  "kernelspec": {
   "display_name": "Python [conda env:ada] *",
   "language": "python",
   "name": "conda-env-ada-py"
  },
  "language_info": {
   "codemirror_mode": {
    "name": "ipython",
    "version": 3
   },
   "file_extension": ".py",
   "mimetype": "text/x-python",
   "name": "python",
   "nbconvert_exporter": "python",
   "pygments_lexer": "ipython3",
   "version": "3.7.5"
  }
 },
 "nbformat": 4,
 "nbformat_minor": 2
}
